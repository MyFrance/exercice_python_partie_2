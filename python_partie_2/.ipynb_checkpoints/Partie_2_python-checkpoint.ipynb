{
 "cells": [
  {
   "cell_type": "markdown",
   "id": "5eda24e1",
   "metadata": {},
   "source": [
    "********* Lire et écrire dans un fichier **********"
   ]
  },
  {
   "cell_type": "code",
   "execution_count": 18,
   "id": "c22986bc",
   "metadata": {
    "ExecuteTime": {
     "end_time": "2022-09-29T13:07:16.216080Z",
     "start_time": "2022-09-29T13:07:16.180176Z"
    }
   },
   "outputs": [
    {
     "ename": "SyntaxError",
     "evalue": "(unicode error) 'unicodeescape' codec can't decode bytes in position 2-3: truncated \\UXXXXXXXX escape (<ipython-input-18-c3f966b4312d>, line 2)",
     "output_type": "error",
     "traceback": [
      "\u001b[1;36m  File \u001b[1;32m\"<ipython-input-18-c3f966b4312d>\"\u001b[1;36m, line \u001b[1;32m2\u001b[0m\n\u001b[1;33m    chemin = \"C:\\Users\\Utilisateur\\Desktop\\VDE\\python\\partie2\\python_partie_2\\python.txt\"\u001b[0m\n\u001b[1;37m             ^\u001b[0m\n\u001b[1;31mSyntaxError\u001b[0m\u001b[1;31m:\u001b[0m (unicode error) 'unicodeescape' codec can't decode bytes in position 2-3: truncated \\UXXXXXXXX escape\n"
     ]
    }
   ],
   "source": [
    "# ouvrir un fichier \n",
    "chemin = \"C:\\Users\\Utilisateur\\Desktop\\VDE\\python\\partie2\\python_partie_2\\python.txt\"\n",
    "print(chemin)\n",
    "\n",
    "# On voit une erreur que nous allons chercher à resoudre pour l'ouverture du fichier."
   ]
  },
  {
   "cell_type": "code",
   "execution_count": 54,
   "id": "4414ff97",
   "metadata": {
    "ExecuteTime": {
     "end_time": "2022-09-29T13:47:04.220315Z",
     "start_time": "2022-09-29T13:47:04.199370Z"
    }
   },
   "outputs": [
    {
     "name": "stdout",
     "output_type": "stream",
     "text": [
      "  Je vais supprimer le contenu du fichier en utilisant le wJe vais rajouter un cette phrase dans ce fichier sans rien supprimer parce que j'utilise append(c'est le a)Je vais rajouter un cette phrase dans ce fichier sans rien supprimer parce que j'utilise append(c'est le a)Je vais rajouter un cette phrase dans ce fichier sans rien supprimer parce que j'utilise append(c'est le a)Je vais rajouter un cette phrase dans ce fichier sans rien supprimer parce que j'utilise append(c'est le a)\n",
      "0  Je vais rajouter un cette phrase dans ce fichi...                                                                                                                                                                                                                                                                                                                                                                                                                                                   \n",
      "1  Je vais rajouter un cette phrase dans ce fichi...                                                                                                                                                                                                                                                                                                                                                                                                                                                   \n",
      "2  Je vais rajouter un cette phrase dans ce fichi...                                                                                                                                                                                                                                                                                                                                                                                                                                                   \n"
     ]
    }
   ],
   "source": [
    "import pandas as pd\n",
    "#1.Lorsqu'on met le r on peut voir le type de fichier qu'on a \n",
    "chemin = pd.read_csv(r\"C:\\Users\\Utilisateur\\Desktop\\VDE\\python\\partie2\\python_partie_2\\python.txt\")\n",
    "print(chemin)"
   ]
  },
  {
   "cell_type": "code",
   "execution_count": 55,
   "id": "c382873f",
   "metadata": {
    "ExecuteTime": {
     "end_time": "2022-09-29T13:47:16.531397Z",
     "start_time": "2022-09-29T13:47:16.511447Z"
    }
   },
   "outputs": [
    {
     "name": "stdout",
     "output_type": "stream",
     "text": [
      "Je vais supprimer le contenu du fichier en utilisant le wJe vais rajouter un cette phrase dans ce fichier sans rien supprimer parce que j'utilise append(c'est le a)Je vais rajouter un cette phrase dans ce fichier sans rien supprimer parce que j'utilise append(c'est le a)Je vais rajouter un cette phrase dans ce fichier sans rien supprimer parce que j'utilise append(c'est le a)Je vais rajouter un cette phrase dans ce fichier sans rien supprimer parce que j'utilise append(c'est le a)\n",
      "Je vais rajouter un cette phrase dans ce fichier sans rien supprimer parce que j'utilise append(c'est le a)\n",
      "Je vais rajouter un cette phrase dans ce fichier sans rien supprimer parce que j'utilise append(c'est le a)\n",
      "Je vais rajouter un cette phrase dans ce fichier sans rien supprimer parce que j'utilise append(c'est le a)\n"
     ]
    }
   ],
   "source": [
    "#2. pour ouvrir un fichier on doit utiliser le code suivant:\n",
    "chemin = r\"C:\\Users\\Utilisateur\\Desktop\\VDE\\python\\partie2\\python_partie_2\\python.txt\"\n",
    "with open(chemin, 'r', encoding = 'utf-8') as f: \n",
    "    contenu = f.read()\n",
    "    print(contenu)"
   ]
  },
  {
   "cell_type": "code",
   "execution_count": 41,
   "id": "0cb3beff",
   "metadata": {
    "ExecuteTime": {
     "end_time": "2022-09-29T13:42:03.296898Z",
     "start_time": "2022-09-29T13:42:03.287922Z"
    }
   },
   "outputs": [
    {
     "name": "stdout",
     "output_type": "stream",
     "text": [
      "'Je vais supprimer le contenu du fichier en utilisant le w'\n"
     ]
    }
   ],
   "source": [
    "#3. Affichage sans retour à la ligne\n",
    "chemin = r\"C:\\Users\\Utilisateur\\Desktop\\VDE\\python\\partie2\\python_partie_2\\python.txt\"\n",
    "with open(chemin, 'r', encoding = 'utf-8') as f:\n",
    "    contenu = repr(f.read())\n",
    "    print(contenu)"
   ]
  },
  {
   "cell_type": "code",
   "execution_count": 48,
   "id": "02e47871",
   "metadata": {
    "ExecuteTime": {
     "end_time": "2022-09-29T13:42:30.916043Z",
     "start_time": "2022-09-29T13:42:30.895105Z"
    }
   },
   "outputs": [
    {
     "name": "stdout",
     "output_type": "stream",
     "text": [
      "[\"Je vais supprimer le contenu du fichier en utilisant le wJe vais rajouter un cette phrase dans ce fichier sans rien supprimer parce que j'utilise append(c'est le a)Je vais rajouter un cette phrase dans ce fichier sans rien supprimer parce que j'utilise append(c'est le a)Je vais rajouter un cette phrase dans ce fichier sans rien supprimer parce que j'utilise append(c'est le a)\"]\n"
     ]
    }
   ],
   "source": [
    "# 4. affichage sous forme de liste\n",
    "chemin = r\"C:\\Users\\Utilisateur\\Desktop\\VDE\\python\\partie2\\python_partie_2\\python.txt\"\n",
    "with open(chemin, 'r', encoding = 'utf-8') as f:\n",
    "    contenu = f.read().splitlines()\n",
    "    print(contenu)"
   ]
  },
  {
   "cell_type": "code",
   "execution_count": 43,
   "id": "30e77204",
   "metadata": {
    "ExecuteTime": {
     "end_time": "2022-09-29T13:42:09.140273Z",
     "start_time": "2022-09-29T13:42:09.118331Z"
    }
   },
   "outputs": [
    {
     "name": "stdout",
     "output_type": "stream",
     "text": [
      "['Je vais supprimer le contenu du fichier en utilisant le w']\n"
     ]
    }
   ],
   "source": [
    "#5 Ecrire dans un fichier\n",
    "chemin = r\"C:\\Users\\Utilisateur\\Desktop\\VDE\\python\\partie2\\python_partie_2\\python.txt\"\n",
    "with open(chemin, 'w') as f:\n",
    "    f.write(\"Je vais supprimer le contenu du fichier en utilisant le w\")\n",
    "    print(contenu)\n",
    "    "
   ]
  },
  {
   "cell_type": "code",
   "execution_count": 49,
   "id": "cc26c6ac",
   "metadata": {
    "ExecuteTime": {
     "end_time": "2022-09-29T13:42:34.010768Z",
     "start_time": "2022-09-29T13:42:33.991819Z"
    }
   },
   "outputs": [
    {
     "name": "stdout",
     "output_type": "stream",
     "text": [
      "[\"Je vais supprimer le contenu du fichier en utilisant le wJe vais rajouter un cette phrase dans ce fichier sans rien supprimer parce que j'utilise append(c'est le a)Je vais rajouter un cette phrase dans ce fichier sans rien supprimer parce que j'utilise append(c'est le a)Je vais rajouter un cette phrase dans ce fichier sans rien supprimer parce que j'utilise append(c'est le a)\"]\n"
     ]
    }
   ],
   "source": [
    "chemin = r\"C:\\Users\\Utilisateur\\Desktop\\VDE\\python\\partie2\\python_partie_2\\python.txt\"\n",
    "with open(chemin, 'a') as f:\n",
    "    f.write(\"Je vais rajouter un cette phrase dans ce fichier sans rien supprimer parce que j'utilise append(c'est le a)\")\n",
    "    print(contenu)"
   ]
  },
  {
   "cell_type": "code",
   "execution_count": 53,
   "id": "744ba266",
   "metadata": {
    "ExecuteTime": {
     "end_time": "2022-09-29T13:47:00.924131Z",
     "start_time": "2022-09-29T13:47:00.913160Z"
    }
   },
   "outputs": [
    {
     "name": "stdout",
     "output_type": "stream",
     "text": [
      "[\"Je vais supprimer le contenu du fichier en utilisant le wJe vais rajouter un cette phrase dans ce fichier sans rien supprimer parce que j'utilise append(c'est le a)Je vais rajouter un cette phrase dans ce fichier sans rien supprimer parce que j'utilise append(c'est le a)Je vais rajouter un cette phrase dans ce fichier sans rien supprimer parce que j'utilise append(c'est le a)\"]\n"
     ]
    }
   ],
   "source": [
    "#Ici on a pa retour chariot, donc il faut rajouter le \\n en début de phrase\n",
    "\n",
    "chemin = r\"C:\\Users\\Utilisateur\\Desktop\\VDE\\python\\partie2\\python_partie_2\\python.txt\"\n",
    "with open(chemin, 'a') as f:\n",
    "    f.write(\"\\nJe vais rajouter un cette phrase dans ce fichier sans rien supprimer parce que j'utilise append(c'est le a)\")\n",
    "    print(contenu)"
   ]
  },
  {
   "cell_type": "code",
   "execution_count": 56,
   "id": "fc189f7d",
   "metadata": {
    "ExecuteTime": {
     "end_time": "2022-09-29T13:55:22.451978Z",
     "start_time": "2022-09-29T13:55:22.433028Z"
    }
   },
   "outputs": [],
   "source": [
    "# Les fichier jsaon"
   ]
  },
  {
   "cell_type": "code",
   "execution_count": null,
   "id": "855281f7",
   "metadata": {},
   "outputs": [],
   "source": []
  }
 ],
 "metadata": {
  "kernelspec": {
   "display_name": "Python 3",
   "language": "python",
   "name": "python3"
  },
  "language_info": {
   "codemirror_mode": {
    "name": "ipython",
    "version": 3
   },
   "file_extension": ".py",
   "mimetype": "text/x-python",
   "name": "python",
   "nbconvert_exporter": "python",
   "pygments_lexer": "ipython3",
   "version": "3.8.8"
  },
  "toc": {
   "base_numbering": 1,
   "nav_menu": {},
   "number_sections": true,
   "sideBar": true,
   "skip_h1_title": false,
   "title_cell": "Table of Contents",
   "title_sidebar": "Contents",
   "toc_cell": false,
   "toc_position": {},
   "toc_section_display": true,
   "toc_window_display": true
  }
 },
 "nbformat": 4,
 "nbformat_minor": 5
}
