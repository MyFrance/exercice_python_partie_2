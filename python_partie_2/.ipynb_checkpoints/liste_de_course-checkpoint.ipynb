{
 "cells": [
  {
   "cell_type": "markdown",
   "id": "3a914142",
   "metadata": {},
   "source": [
    "# Liste de course "
   ]
  },
  {
   "cell_type": "code",
   "execution_count": null,
   "id": "d0bafd4c",
   "metadata": {},
   "outputs": [],
   "source": [
    "Liste = []\n",
    "Menu = ''' Choisissez parmi les options suivantes :\\n \n",
    "1: Ajouter un élément à la liste\n",
    "2: Retirer un élément de la liste\n",
    "3: Afficher la liste\n",
    "4: Vider la liste\n",
    "5: Quitter \\n\n",
    "Quel est votre choix \\n ? '''\n",
    "\n",
    "Menu_choices = [\"1\", \"2\", \"3\", \"4\", \"5\"]\n",
    "\n",
    "while True: \n",
    "    user_choice = \"\"\n",
    "    while user_choice not in Menu_choices: \n",
    "        user_choice = input(Menu)\n",
    "        if user_choice not in Menu_choices: \n",
    "            print(\"Veuillez choisir une option valide...\\n\")\n",
    "            \n",
    "            \n",
    "    if user_choice == Menu_choices[0]: #Ajouter un élément à la liste\n",
    "        item = input(\"Indiquer le nom de l'élément à ajouter : \")\n",
    "        Liste.append(item)\n",
    "        print(f\"L'élément {item} a bien été ajouté à la liste\")\n",
    "        \n",
    "    elif user_choice == Menu_choices[1]: #Retirer un élément de la liste\n",
    "        item = input(\"Indiquer l'élément à retirer: \")\n",
    "        if item in Liste: \n",
    "            Liste.remove(item)\n",
    "            print(f\" L'élément {item} a bien été rétiré de la liste\")\n",
    "        else:\n",
    "            print(f\"L'élément {item} n'est pas dans la liste\")\n",
    "            \n",
    "    elif user_choice == Menu_choices[2]: \n",
    "        if Liste: \n",
    "            \n",
    "            print(\"Voici le contenu de votre liste \")\n",
    "            for i, item in enumerate(Liste, 1): \n",
    "                print(f\" {i}. {item}\")\n",
    "        else: \n",
    "            print(\"Votre liste ne contient pas l'élément\")\n",
    "\n",
    "    elif user_choice == Menu_choices[3]:\n",
    "        Liste.clear()\n",
    "        print(\"Votre liste a été vidé de son contenu\")\n",
    "        \n",
    "    elif user_choice == Menu_choices[-1]:\n",
    "        print(\" à très bientôt\")\n",
    "        break\n",
    "        \n",
    "    print(\"-\" * 50)\n",
    "        "
   ]
  }
 ],
 "metadata": {
  "kernelspec": {
   "display_name": "Python 3",
   "language": "python",
   "name": "python3"
  },
  "language_info": {
   "codemirror_mode": {
    "name": "ipython",
    "version": 3
   },
   "file_extension": ".py",
   "mimetype": "text/x-python",
   "name": "python",
   "nbconvert_exporter": "python",
   "pygments_lexer": "ipython3",
   "version": "3.8.8"
  },
  "toc": {
   "base_numbering": 1,
   "nav_menu": {},
   "number_sections": true,
   "sideBar": true,
   "skip_h1_title": false,
   "title_cell": "Table of Contents",
   "title_sidebar": "Contents",
   "toc_cell": false,
   "toc_position": {},
   "toc_section_display": true,
   "toc_window_display": false
  }
 },
 "nbformat": 4,
 "nbformat_minor": 5
}
