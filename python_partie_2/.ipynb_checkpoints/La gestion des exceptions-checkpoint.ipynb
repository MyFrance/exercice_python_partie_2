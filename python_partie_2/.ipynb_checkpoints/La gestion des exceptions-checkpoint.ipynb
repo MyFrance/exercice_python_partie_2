{
 "cells": [
  {
   "cell_type": "code",
   "execution_count": 6,
   "id": "435c4446",
   "metadata": {
    "ExecuteTime": {
     "end_time": "2022-10-10T08:39:30.289797Z",
     "start_time": "2022-10-10T08:39:30.277837Z"
    }
   },
   "outputs": [
    {
     "name": "stdout",
     "output_type": "stream",
     "text": [
      "L'employer 214 n'existe pas\n"
     ]
    }
   ],
   "source": [
    "# EXEMPLE avec lbyl\n",
    "\n",
    "data = {213 : 4500}\n",
    "\n",
    "if 214 in data: \n",
    "    print(f\"Le saliare de l'employer 214 est : {data[214]}\")\n",
    "else: \n",
    "    print(f\"L'employer 214 n'existe pas\")"
   ]
  },
  {
   "cell_type": "code",
   "execution_count": 9,
   "id": "b4d378fe",
   "metadata": {
    "ExecuteTime": {
     "end_time": "2022-10-10T08:47:50.313147Z",
     "start_time": "2022-10-10T08:47:50.294200Z"
    }
   },
   "outputs": [
    {
     "name": "stdout",
     "output_type": "stream",
     "text": [
      "L'employer 214 n'existe pas\n"
     ]
    }
   ],
   "source": [
    "# Exemple avec EAFP\n",
    "data = {213 :4500}\n",
    "\n",
    "try: \n",
    "    salaire_employer = data[214]\n",
    "except KeyError: # Le E de error avec une majuscule\n",
    "    print(\"L'employer 214 n'existe pas\")"
   ]
  },
  {
   "cell_type": "code",
   "execution_count": 22,
   "id": "d0eb35a4",
   "metadata": {
    "ExecuteTime": {
     "end_time": "2022-10-10T09:04:44.470717Z",
     "start_time": "2022-10-10T09:04:44.453761Z"
    }
   },
   "outputs": [
    {
     "name": "stdout",
     "output_type": "stream",
     "text": [
      "13\n"
     ]
    }
   ],
   "source": [
    "# exemple somme d'une liste avec la méthode LBYL:\n",
    "liste = [2, 7, \"texte\", 4]\n",
    "\n",
    "for i in liste: \n",
    "    if not str(i).isdigit():\n",
    "        liste.remove(i)\n",
    "total = sum(liste)\n",
    "print(total)"
   ]
  },
  {
   "cell_type": "code",
   "execution_count": 29,
   "id": "3be2b663",
   "metadata": {
    "ExecuteTime": {
     "end_time": "2022-10-10T09:17:56.586231Z",
     "start_time": "2022-10-10T09:17:56.580246Z"
    }
   },
   "outputs": [
    {
     "name": "stdout",
     "output_type": "stream",
     "text": [
      "Le total est impossible : 0\n"
     ]
    }
   ],
   "source": [
    "# Exemple somme d'une liste avec la méthode EAFP:\n",
    "liste = [2, 7, \"texte\", 4]\n",
    "\n",
    "try: \n",
    "    total = sum(liste)\n",
    "except TypeError: \n",
    "    total = 0\n",
    "    print(f\"Le total est impossible : {total}\")"
   ]
  },
  {
   "cell_type": "markdown",
   "id": "9cc3340e",
   "metadata": {},
   "source": [
    "Gérer l'erreur qui arrive quand l'utilisateur rentre un chemin vers un fichier qui n'existe pas sur le disque.\n",
    "\n",
    "Gérer l'erreur qui arrive quand Python n'arrive pas à lire le contenu du fichier qui est passé par l'utilisateur."
   ]
  },
  {
   "cell_type": "code",
   "execution_count": 52,
   "id": "95b92ce8",
   "metadata": {
    "ExecuteTime": {
     "end_time": "2022-10-10T10:04:06.796850Z",
     "start_time": "2022-10-10T10:04:03.215428Z"
    }
   },
   "outputs": [
    {
     "name": "stdout",
     "output_type": "stream",
     "text": [
      "Donnez le chemin du fichier C:\\Users\\Utilisateur\\fichier_introuvable.py\n",
      "Fichier introuvable\n",
      "Lecture du fichier terminée \n"
     ]
    }
   ],
   "source": [
    "#fichier valide \n",
    "chemin = input(\"Donnez le chemin du fichier \")  \n",
    "try:\n",
    "    with open(chemin, \"r\", encoding = 'utf-8') as f:\n",
    "        lecture_fichier = f.read()\n",
    "        print(lecture_fichier)\n",
    "except UnicodeDecodeError: \n",
    "    print(\"Impossible d'ouvrir le fichier\")\n",
    "except FileNotFoundError: \n",
    "    print(\"Fichier introuvable\")\n",
    "\n",
    "finally: \n",
    "    print(\"Lecture du fichier terminée \")"
   ]
  },
  {
   "cell_type": "code",
   "execution_count": 42,
   "id": "df6ce15c",
   "metadata": {
    "ExecuteTime": {
     "end_time": "2022-10-10T09:52:53.649663Z",
     "start_time": "2022-10-10T09:52:53.635695Z"
    }
   },
   "outputs": [
    {
     "ename": "FileNotFoundError",
     "evalue": "[Errno 2] No such file or directory: 'C:\\\\Users\\\\Utilisateur\\\\fichier_introuvable.txt'",
     "output_type": "error",
     "traceback": [
      "\u001b[1;31m---------------------------------------------------------------------------\u001b[0m",
      "\u001b[1;31mFileNotFoundError\u001b[0m                         Traceback (most recent call last)",
      "\u001b[1;32m<ipython-input-42-75fe9092167c>\u001b[0m in \u001b[0;36m<module>\u001b[1;34m\u001b[0m\n\u001b[0;32m      1\u001b[0m \u001b[1;31m# fichier introuvable\u001b[0m\u001b[1;33m\u001b[0m\u001b[1;33m\u001b[0m\u001b[1;33m\u001b[0m\u001b[0m\n\u001b[0;32m      2\u001b[0m \u001b[1;31m# Fichier invalide\u001b[0m\u001b[1;33m\u001b[0m\u001b[1;33m\u001b[0m\u001b[1;33m\u001b[0m\u001b[0m\n\u001b[1;32m----> 3\u001b[1;33m \u001b[1;32mwith\u001b[0m \u001b[0mopen\u001b[0m\u001b[1;33m(\u001b[0m\u001b[1;34mr\"C:\\Users\\Utilisateur\\fichier_introuvable.txt\"\u001b[0m\u001b[1;33m,\u001b[0m \u001b[1;34m\"r\"\u001b[0m\u001b[1;33m,\u001b[0m \u001b[0mencoding\u001b[0m \u001b[1;33m=\u001b[0m \u001b[1;34m'utf-8'\u001b[0m\u001b[1;33m)\u001b[0m \u001b[1;32mas\u001b[0m \u001b[0mf\u001b[0m\u001b[1;33m:\u001b[0m\u001b[1;33m\u001b[0m\u001b[1;33m\u001b[0m\u001b[0m\n\u001b[0m\u001b[0;32m      4\u001b[0m     \u001b[0mlecture_fichier\u001b[0m \u001b[1;33m=\u001b[0m \u001b[0mf\u001b[0m\u001b[1;33m.\u001b[0m\u001b[0mread\u001b[0m\u001b[1;33m(\u001b[0m\u001b[1;33m)\u001b[0m\u001b[1;33m\u001b[0m\u001b[1;33m\u001b[0m\u001b[0m\n\u001b[0;32m      5\u001b[0m     \u001b[0mprint\u001b[0m\u001b[1;33m(\u001b[0m\u001b[0mlecture_fichier\u001b[0m\u001b[1;33m)\u001b[0m\u001b[1;33m\u001b[0m\u001b[1;33m\u001b[0m\u001b[0m\n",
      "\u001b[1;31mFileNotFoundError\u001b[0m: [Errno 2] No such file or directory: 'C:\\\\Users\\\\Utilisateur\\\\fichier_introuvable.txt'"
     ]
    }
   ],
   "source": [
    "# fichier introuvable\n",
    "# Fichier invalide\n",
    "with open(r\"C:\\Users\\Utilisateur\\fichier_introuvable.txt\", \"r\", encoding = 'utf-8') as f:\n",
    "    lecture_fichier = f.read()\n",
    "    print(lecture_fichier)"
   ]
  },
  {
   "cell_type": "code",
   "execution_count": 39,
   "id": "2a660eb9",
   "metadata": {
    "ExecuteTime": {
     "end_time": "2022-10-10T09:50:53.150901Z",
     "start_time": "2022-10-10T09:50:47.876007Z"
    }
   },
   "outputs": [
    {
     "name": "stdout",
     "output_type": "stream",
     "text": [
      "Entrer le chemin du fichierr\"C:\\Users\\Utilisateur\\Desktop\\VDE\\python\\partie2\\python_partie_2\\gestion_exception.txt\"\n"
     ]
    },
    {
     "ename": "OSError",
     "evalue": "[Errno 22] Invalid argument: 'r\"C:\\\\Users\\\\Utilisateur\\\\Desktop\\\\VDE\\\\python\\\\partie2\\\\python_partie_2\\\\gestion_exception.txt\"'",
     "output_type": "error",
     "traceback": [
      "\u001b[1;31m---------------------------------------------------------------------------\u001b[0m",
      "\u001b[1;31mOSError\u001b[0m                                   Traceback (most recent call last)",
      "\u001b[1;32m<ipython-input-39-5ae331ef6615>\u001b[0m in \u001b[0;36m<module>\u001b[1;34m\u001b[0m\n\u001b[0;32m      1\u001b[0m \u001b[0mchemin_fichier\u001b[0m \u001b[1;33m=\u001b[0m \u001b[0minput\u001b[0m\u001b[1;33m(\u001b[0m\u001b[1;34m\"Entrer le chemin du fichier\"\u001b[0m\u001b[1;33m)\u001b[0m\u001b[1;33m\u001b[0m\u001b[1;33m\u001b[0m\u001b[0m\n\u001b[1;32m----> 2\u001b[1;33m \u001b[1;32mwith\u001b[0m \u001b[0mopen\u001b[0m\u001b[1;33m(\u001b[0m\u001b[0mchemin_fichier\u001b[0m\u001b[1;33m,\u001b[0m \u001b[1;34m\"r\"\u001b[0m\u001b[1;33m,\u001b[0m \u001b[0mencoding\u001b[0m \u001b[1;33m=\u001b[0m \u001b[1;34m'utf-8'\u001b[0m\u001b[1;33m)\u001b[0m \u001b[1;32mas\u001b[0m \u001b[0mf\u001b[0m\u001b[1;33m:\u001b[0m\u001b[1;33m\u001b[0m\u001b[1;33m\u001b[0m\u001b[0m\n\u001b[0m\u001b[0;32m      3\u001b[0m     \u001b[0mlecture_fichier\u001b[0m \u001b[1;33m=\u001b[0m \u001b[0mf\u001b[0m\u001b[1;33m.\u001b[0m\u001b[0mread\u001b[0m\u001b[1;33m(\u001b[0m\u001b[1;33m)\u001b[0m\u001b[1;33m\u001b[0m\u001b[1;33m\u001b[0m\u001b[0m\n\u001b[0;32m      4\u001b[0m \u001b[0mprint\u001b[0m\u001b[1;33m(\u001b[0m\u001b[0mlchemin_fichier\u001b[0m\u001b[1;33m)\u001b[0m\u001b[1;33m\u001b[0m\u001b[1;33m\u001b[0m\u001b[0m\n",
      "\u001b[1;31mOSError\u001b[0m: [Errno 22] Invalid argument: 'r\"C:\\\\Users\\\\Utilisateur\\\\Desktop\\\\VDE\\\\python\\\\partie2\\\\python_partie_2\\\\gestion_exception.txt\"'"
     ]
    }
   ],
   "source": [
    "chemin_fichier = input(\"Entrer le chemin du fichier\")\n",
    "with open(chemin_fichier, \"r\", encoding = 'utf-8') as f: \n",
    "    lecture_fichier = f.read()\n",
    "print(lchemin_fichier)"
   ]
  },
  {
   "cell_type": "code",
   "execution_count": null,
   "id": "31c6b0b5",
   "metadata": {},
   "outputs": [],
   "source": []
  }
 ],
 "metadata": {
  "kernelspec": {
   "display_name": "Python 3",
   "language": "python",
   "name": "python3"
  },
  "language_info": {
   "codemirror_mode": {
    "name": "ipython",
    "version": 3
   },
   "file_extension": ".py",
   "mimetype": "text/x-python",
   "name": "python",
   "nbconvert_exporter": "python",
   "pygments_lexer": "ipython3",
   "version": "3.8.8"
  },
  "toc": {
   "base_numbering": 1,
   "nav_menu": {},
   "number_sections": true,
   "sideBar": true,
   "skip_h1_title": false,
   "title_cell": "Table of Contents",
   "title_sidebar": "Contents",
   "toc_cell": false,
   "toc_position": {},
   "toc_section_display": true,
   "toc_window_display": false
  }
 },
 "nbformat": 4,
 "nbformat_minor": 5
}
