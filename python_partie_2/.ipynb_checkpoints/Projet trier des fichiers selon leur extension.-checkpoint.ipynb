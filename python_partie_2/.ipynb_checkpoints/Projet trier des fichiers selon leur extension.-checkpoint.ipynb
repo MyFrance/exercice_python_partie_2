{
 "cells": [
  {
   "cell_type": "markdown",
   "id": "b092977e",
   "metadata": {},
   "source": [
    "Dans ce projet, vous allez devoir créer un programme pour trier des fichiers selon leur extension.\n",
    "\n",
    "\n",
    "Vous pouvez par exemple l'exécuter à intervalle régulier dans votre dossier de téléchargements pour organiser automatiquement tous les fichiers qui s'y trouvent.\n",
    "\n",
    "Pour ce projet, je vous conseille d'essayer d'utiliser la bibliothèque pathlib que l'on a vu dans les parties précédentes.\n",
    "\n",
    "Vous verrez que c'est beaucoup plus simple que de passer par le module os 😉\n"
   ]
  },
  {
   "cell_type": "code",
   "execution_count": 15,
   "id": "ea6d6f69",
   "metadata": {
    "ExecuteTime": {
     "end_time": "2022-10-06T08:36:24.961325Z",
     "start_time": "2022-10-06T08:36:24.938387Z"
    }
   },
   "outputs": [],
   "source": [
    "# Première façon de faire\n",
    "from pathlib import Path\n",
    "\n",
    "dirs ={\".jpeg\":\"Images\",\n",
    "       \".jpg\" : \"Images\",\n",
    "       \".png\" : \"Images\",\n",
    "       \".gif\" : \"Images\",\n",
    "       \".pdf\" : \"Documents\",\n",
    "       \".txt\" : \"Documents\",\n",
    "       \".mp3\" : \"Musiques\",\n",
    "       \".m4a\" : \"Musiques\",\n",
    "       \".mp4\" : \"Videos\",\n",
    "        \".wav\" : \"Musiques\",\n",
    "        \".flac\": \"Musiques\",\n",
    "        \".avi\" : \"Videos\",\n",
    "       \".bmp\" :  \"Images\",\n",
    "       \".pptx\" : \"Documents\",\n",
    "        \".csv\" : \"Documents\",\n",
    "        \".xls\" : \"Documents\",\n",
    "       \".xlsx\" : \"Documents\",\n",
    "       \".odp\"  : \"Documents\",\n",
    "       \".pages\" : \"Documents\"      \n",
    "}\n",
    "\n",
    "\n",
    "p = Path.home()\n",
    "# On donne le chemin où se trouve le fichier\n",
    "tri_dir = p/ \"D:\\Téléchargements\\sources\\data\"\n",
    "\n",
    "# On récupère tous les fichiers dans le dossier de base\n",
    "files = [f for f in tri_dir.iterdir() if f.is_file()]\n",
    "\n",
    "for f in files: # On boucle sur chaque fichier\n",
    "    \n",
    "    # On récupère le dossier cible à partir du dictionnaire et on le concatène le dossier de base avec le dossier cible\n",
    "    output_files = tri_dir /dirs.get(f.suffix, \"Divers\")\n",
    "    \n",
    "     # On crée le dossier cible s'il n'existe pas déjà\n",
    "    output_files.mkdir(exist_ok = True)\n",
    "    \n",
    "     # On concatène le dossier de base avec le dossier cible\n",
    "    f.rename(output_files / f.name)"
   ]
  },
  {
   "cell_type": "code",
   "execution_count": null,
   "id": "2b525bdb",
   "metadata": {},
   "outputs": [],
   "source": [
    "# Deuxième façon de faire \n",
    "from pathlib import Path\n",
    "\n",
    "\n",
    "EXTENSIONS_MAPPING = {\".mp3\": \"Musique\",\n",
    "                      \".wav\": \"Musique\",\n",
    "                      \".mp4\": \"Videos\",\n",
    "                      \".avi\": \"Videos\",\n",
    "                      \".gif\": \"Videos\",\n",
    "                      \".bmp\": \"Images\",\n",
    "                      \".png\": \"Images\",\n",
    "                      \".jpg\": \"Images\",\n",
    "                      \".txt\": \"Documents\",\n",
    "                      \".pptx\": \"Documents\",\n",
    "                      \".csv\": \"Documents\",\n",
    "                      \".xls\": \"Documents\",\n",
    "                      \".odp\": \"Documents\",\n",
    "                      \".pages\": \"Documents\"}\n",
    "\n",
    "BASE_DIR = Path('/Users/thibh/trieur_fichiers/data')\n",
    "\n",
    "# On récupère tous les fichiers dans le dossier de base\n",
    "files = [f for f in BASE_DIR.iterdir() if f.is_file()]\n",
    "for file in files:  # On boucle sur chaque fichier\n",
    "    \n",
    "    # On récupère le dossier cible à partir du dictionnaire\n",
    "    dossier_cible = EXTENSIONS_MAPPING.get(file.suffix, \"Divers\")\n",
    "    # On concatène le dossier de base avec le dossier cible\n",
    "    dossier_cible_absolu = BASE_DIR / dossier_cible\n",
    "    # On crée le dossier cible s'il n'existe pas déjà\n",
    "    dossier_cible_absolu.mkdir(exist_ok=True)\n",
    "    # On concatène le dossier cible avec le nom du fichier\n",
    "    fichier_cible = dossier_cible_absolu / file.name\n",
    "    # On déplace le fichier\n",
    "    file.rename(fichier_cible)"
   ]
  }
 ],
 "metadata": {
  "kernelspec": {
   "display_name": "Python 3",
   "language": "python",
   "name": "python3"
  },
  "language_info": {
   "codemirror_mode": {
    "name": "ipython",
    "version": 3
   },
   "file_extension": ".py",
   "mimetype": "text/x-python",
   "name": "python",
   "nbconvert_exporter": "python",
   "pygments_lexer": "ipython3",
   "version": "3.8.8"
  },
  "toc": {
   "base_numbering": 1,
   "nav_menu": {},
   "number_sections": true,
   "sideBar": true,
   "skip_h1_title": false,
   "title_cell": "Table of Contents",
   "title_sidebar": "Contents",
   "toc_cell": false,
   "toc_position": {},
   "toc_section_display": true,
   "toc_window_display": false
  }
 },
 "nbformat": 4,
 "nbformat_minor": 5
}
