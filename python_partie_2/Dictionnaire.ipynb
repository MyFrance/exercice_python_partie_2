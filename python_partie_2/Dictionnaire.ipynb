{
 "cells": [
  {
   "cell_type": "markdown",
   "id": "7b6106a1",
   "metadata": {},
   "source": [
    "## Accéder à un élément dans un dictionnaire"
   ]
  },
  {
   "cell_type": "markdown",
   "id": "6c61bc8d",
   "metadata": {},
   "source": [
    "### Première méthode avec les crochets"
   ]
  },
  {
   "cell_type": "code",
   "execution_count": 103,
   "id": "df349e70",
   "metadata": {
    "ExecuteTime": {
     "end_time": "2022-10-05T14:54:19.013122Z",
     "start_time": "2022-10-05T14:54:18.991182Z"
    }
   },
   "outputs": [
    {
     "name": "stdout",
     "output_type": "stream",
     "text": [
      "eggs\n"
     ]
    },
    {
     "ename": "KeyError",
     "evalue": "'ham'",
     "output_type": "error",
     "traceback": [
      "\u001b[1;31m---------------------------------------------------------------------------\u001b[0m",
      "\u001b[1;31mKeyError\u001b[0m                                  Traceback (most recent call last)",
      "\u001b[1;32m<ipython-input-103-84e53a8887a7>\u001b[0m in \u001b[0;36m<module>\u001b[1;34m\u001b[0m\n\u001b[0;32m      7\u001b[0m \u001b[1;33m\u001b[0m\u001b[0m\n\u001b[0;32m      8\u001b[0m \u001b[1;31m#Si on essaie d'accéder à une clé inexistante avec les crochets, on a une erreur (KeyError)\u001b[0m\u001b[1;33m\u001b[0m\u001b[1;33m\u001b[0m\u001b[1;33m\u001b[0m\u001b[0m\n\u001b[1;32m----> 9\u001b[1;33m \u001b[0mprint\u001b[0m\u001b[1;33m(\u001b[0m\u001b[0md\u001b[0m\u001b[1;33m[\u001b[0m\u001b[1;34m'ham'\u001b[0m\u001b[1;33m]\u001b[0m\u001b[1;33m)\u001b[0m\u001b[1;33m\u001b[0m\u001b[1;33m\u001b[0m\u001b[0m\n\u001b[0m",
      "\u001b[1;31mKeyError\u001b[0m: 'ham'"
     ]
    }
   ],
   "source": [
    "d = { \n",
    "'spam' : 'eggs',\n",
    "'knights' : 'lumberjack', \n",
    "    'bacon' : 'sausage'\n",
    "}\n",
    "print(d['spam'])\n",
    "\n",
    "#Si on essaie d'accéder à une clé inexistante avec les crochets, on a une erreur (KeyError)\n",
    "print(d['ham'])"
   ]
  },
  {
   "cell_type": "markdown",
   "id": "ef4665b0",
   "metadata": {},
   "source": [
    "### En utilisant la méthode get()"
   ]
  },
  {
   "cell_type": "code",
   "execution_count": 104,
   "id": "21cdb910",
   "metadata": {
    "ExecuteTime": {
     "end_time": "2022-10-05T14:54:42.785949Z",
     "start_time": "2022-10-05T14:54:42.768994Z"
    }
   },
   "outputs": [
    {
     "name": "stdout",
     "output_type": "stream",
     "text": [
      "eggs\n",
      "None\n",
      "n'existe pas\n"
     ]
    }
   ],
   "source": [
    "d = { \n",
    "'spam' : 'eggs',\n",
    "'knights' : 'lumberjack', \n",
    "    'bacon' : 'sausage'\n",
    "}\n",
    "print(d.get('spam'))\n",
    "\n",
    "# Avec get, si la clé n'existe pas, on récupère None\n",
    "print(d.get('ham'))\n",
    "\n",
    "#  Ou la valeur par défaut que l'on passe en deuxième argument\n",
    "print(d.get('ham', \"n'existe pas\"))"
   ]
  },
  {
   "cell_type": "markdown",
   "id": "ea6a28a5",
   "metadata": {},
   "source": [
    "### Exercice 1"
   ]
  },
  {
   "cell_type": "raw",
   "id": "8a310917",
   "metadata": {},
   "source": [
    "\n",
    "Dans cet exercice, tu vas devoir créer un dictionnaire et récupérer des informations contenues à l'intérieur de celui-ci.\n",
    "\n",
    "Tu dois donc créer un dictionnaire film_restor qui contient plusieurs film_restor et le prix correspondants de leurs DVD:\n",
    "\n",
    "Le Seigneur des Anneaux : 12€\n",
    "\n",
    "Harry Potter : 9€\n",
    "\n",
    "Blade Runner : 7,5€\n",
    "\n",
    "Le nom des film_restor seront donc les clés et les prix seront les valeurs associées à ces clés \n",
    "(ton dictionnaire doit donc contenir 3 clés et 3 valeurs associées).\n",
    "\n",
    "\n",
    "Vous devez ensuite récupérer dans la variable prix, le total du prix de ces trois DVD (égal à 28,5€)."
   ]
  },
  {
   "cell_type": "code",
   "execution_count": 109,
   "id": "67535455",
   "metadata": {
    "ExecuteTime": {
     "end_time": "2022-10-05T14:57:34.581539Z",
     "start_time": "2022-10-05T14:57:34.560596Z"
    }
   },
   "outputs": [
    {
     "name": "stdout",
     "output_type": "stream",
     "text": [
      "{}\n",
      "Le prix correspondant au film : Le Seigneur des Anneaux est de None\n",
      "Le prix correspondant au film : Harry Potter est de None\n",
      "Le prix correspondant au film : Blade Runner est de None\n",
      "\n",
      "Le prix total des film_restor est de : 28.5\n"
     ]
    }
   ],
   "source": [
    "# Première méthode pour résoudre cet exercice\n",
    "film_restor = {\"Le Seigneur des Anneaux\" :12,\n",
    "            \"Harry Potter\" : 9,\n",
    "          \"Blade Runner\" : 7.5 \n",
    "}\n",
    "\n",
    "# Récupération des noms des film (les clés)\n",
    "\n",
    "film1 = \"Le Seigneur des Anneaux\"\n",
    "film2 = \"Harry Potter\"\n",
    "film3 =  \"Blade Runner\" \n",
    "# Récupérer les valeurs du dictionnaire \n",
    "\n",
    "Prix_1 = film_restor.pop(\"Le Seigneur des Anneaux\")\n",
    "Prix_2 = film_restor.pop(\"Harry Potter\") \n",
    "Prix_3 = film_restor.pop('Blade Runner')\n",
    "\n",
    "film_restor.get(\"Le Seigneur des Anneaux\")\n",
    "print(film_restor)\n",
    "\n",
    "print(f\"Le prix correspondant au film : {film1} est de {film_restor.get('Le Seigneur des Anneaux')}\")\n",
    "print(f\"Le prix correspondant au film : {film2} est de {film_restor.get('Harry Potter')}\")\n",
    "print(f\"Le prix correspondant au film : {film3} est de {film_restor.get('Blade Runner')}\")\n",
    "\n",
    "prix = Prix_1 + Prix_2 + Prix_3\n",
    "print(f\"\\nLe prix total des film_restor est de : {prix}\")"
   ]
  },
  {
   "cell_type": "code",
   "execution_count": 110,
   "id": "b3d28412",
   "metadata": {
    "ExecuteTime": {
     "end_time": "2022-10-05T14:58:13.054706Z",
     "start_time": "2022-10-05T14:58:13.039746Z"
    }
   },
   "outputs": [
    {
     "name": "stdout",
     "output_type": "stream",
     "text": [
      "\n",
      "Le prix total des film_restor est de : 28.5\n"
     ]
    }
   ],
   "source": [
    "# Deuxième méthode pour résoudre l'exercice \n",
    "film_restor = {\n",
    " \"Le Seigneur des Anneaux\" : 12,\n",
    "            \"Harry Potter\" : 9,\n",
    "          \"Blade Runner\" : 7.5 \n",
    "}\n",
    "\n",
    "prix = 0\n",
    "\n",
    "for key in film_restor:\n",
    "    prix += film_restor[key]\n",
    "    \n",
    "    \n",
    "print(f\"\\nLe prix total des film_restor est de : {prix}\")"
   ]
  },
  {
   "cell_type": "markdown",
   "id": "13061188",
   "metadata": {},
   "source": [
    "# Modifier la valeur associée à une clé "
   ]
  },
  {
   "cell_type": "code",
   "execution_count": 30,
   "id": "95806da5",
   "metadata": {
    "ExecuteTime": {
     "end_time": "2022-10-05T11:48:48.439874Z",
     "start_time": "2022-10-05T11:48:48.426909Z"
    }
   },
   "outputs": [
    {
     "name": "stdout",
     "output_type": "stream",
     "text": [
      "{'Le Seigneur des Anneaux': 10, 'Harry Potter': 9, 'Blade Runner': 7.5}\n"
     ]
    }
   ],
   "source": [
    "# On souhaite modifier la clé \"Le Seigneur des Anneaux\" et le remplacer par top Gun \n",
    "film_restor = {\n",
    " \"Le Seigneur des Anneaux\" : 12,\n",
    "            \"Harry Potter\" : 9,\n",
    "          \"Blade Runner\" : 7.5 \n",
    "}\n",
    "\n",
    "# On fait les soldes :) \n",
    "film_restor[\"Le Seigneur des Anneaux\"] = 10\n",
    "print(film_restor)"
   ]
  },
  {
   "cell_type": "markdown",
   "id": "2fa90f67",
   "metadata": {
    "ExecuteTime": {
     "end_time": "2022-10-05T11:57:30.800178Z",
     "start_time": "2022-10-05T11:57:30.783225Z"
    }
   },
   "source": [
    "## Supprimer des items d'un dictionnaire\n"
   ]
  },
  {
   "cell_type": "code",
   "execution_count": 40,
   "id": "7b79e9c1",
   "metadata": {
    "ExecuteTime": {
     "end_time": "2022-10-05T12:24:39.760789Z",
     "start_time": "2022-10-05T12:24:39.737850Z"
    }
   },
   "outputs": [
    {
     "name": "stdout",
     "output_type": "stream",
     "text": [
      "{'Le Seigneur des Anneaux': 12, 'Blade Runner': 7.5}\n"
     ]
    }
   ],
   "source": [
    "film_restor = {\n",
    " \"Le Seigneur des Anneaux\" : 12,\n",
    "            \"Harry Potter\" : 9,\n",
    "          \"Blade Runner\" : 7.5 \n",
    "}\n",
    "\n",
    "if \"Harry Potter\" in film_restor: \n",
    "    del film_restor[\"Harry Potter\"]\n",
    "    \n",
    "print(film_restor)\n"
   ]
  },
  {
   "cell_type": "markdown",
   "id": "c3ff6900",
   "metadata": {
    "ExecuteTime": {
     "end_time": "2022-10-05T12:32:09.318020Z",
     "start_time": "2022-10-05T12:32:09.298072Z"
    }
   },
   "source": [
    "## Itérer sur un dictionnaire"
   ]
  },
  {
   "cell_type": "markdown",
   "id": "52f3ef1b",
   "metadata": {},
   "source": [
    "### Avec la boucle for "
   ]
  },
  {
   "cell_type": "code",
   "execution_count": 43,
   "id": "b3bcfcbc",
   "metadata": {
    "ExecuteTime": {
     "end_time": "2022-10-05T13:12:02.299184Z",
     "start_time": "2022-10-05T13:12:02.283223Z"
    }
   },
   "outputs": [
    {
     "name": "stdout",
     "output_type": "stream",
     "text": [
      "Le Seigneur des Anneaux\n",
      "Harry Potter\n",
      "Blade Runner\n"
     ]
    }
   ],
   "source": [
    "# pour récupérer la clé uniquement \n",
    "d  = {\n",
    " \"Le Seigneur des Anneaux\" : 12,\n",
    "            \"Harry Potter\" : 9,\n",
    "          \"Blade Runner\" : 7.5 \n",
    "}\n",
    "\n",
    "for key in d:\n",
    "    print(key)"
   ]
  },
  {
   "cell_type": "code",
   "execution_count": 44,
   "id": "dea04fd6",
   "metadata": {
    "ExecuteTime": {
     "end_time": "2022-10-05T13:16:34.521016Z",
     "start_time": "2022-10-05T13:16:34.513037Z"
    }
   },
   "outputs": [
    {
     "name": "stdout",
     "output_type": "stream",
     "text": [
      "Le Seigneur des Anneaux 12\n",
      "Harry Potter 9\n",
      "Blade Runner 7.5\n"
     ]
    }
   ],
   "source": [
    "# Pour récupérer la clé et la valeur\n",
    "d  = {\n",
    " \"Le Seigneur des Anneaux\" : 12,\n",
    "            \"Harry Potter\" : 9,\n",
    "          \"Blade Runner\" : 7.5 \n",
    "}\n",
    "\n",
    "for key in d: \n",
    "    print(key,d[key])\n"
   ]
  },
  {
   "cell_type": "markdown",
   "id": "cc773bdf",
   "metadata": {},
   "source": [
    "### Avec la méthode keys, values et items"
   ]
  },
  {
   "cell_type": "code",
   "execution_count": 54,
   "id": "a4ed6484",
   "metadata": {
    "ExecuteTime": {
     "end_time": "2022-10-05T13:26:56.126667Z",
     "start_time": "2022-10-05T13:26:56.108708Z"
    }
   },
   "outputs": [
    {
     "name": "stdout",
     "output_type": "stream",
     "text": [
      "Le Seigneur des Anneaux\n",
      "Harry Potter\n",
      "Blade Runner\n",
      "**********************************************************************\n",
      "dict_keys(['Le Seigneur des Anneaux', 'Harry Potter', 'Blade Runner'])\n"
     ]
    }
   ],
   "source": [
    "d  = {\n",
    " \"Le Seigneur des Anneaux\" : 12,\n",
    "            \"Harry Potter\" : 9,\n",
    "          \"Blade Runner\" : 7.5 \n",
    "}\n",
    "\n",
    "for key in d.keys(): \n",
    "    print(key)\n",
    "    \n",
    "print(\"*\" * 70)  \n",
    "keys = d.keys()\n",
    "print(keys)"
   ]
  },
  {
   "cell_type": "code",
   "execution_count": 59,
   "id": "9bbc9602",
   "metadata": {
    "ExecuteTime": {
     "end_time": "2022-10-05T13:35:00.019944Z",
     "start_time": "2022-10-05T13:34:59.999000Z"
    }
   },
   "outputs": [
    {
     "name": "stdout",
     "output_type": "stream",
     "text": [
      "12\n",
      "9\n",
      "7.5\n",
      "**********************************************************************\n",
      "dict_values([12, 9, 7.5])\n"
     ]
    }
   ],
   "source": [
    "d  = {\n",
    " \"Le Seigneur des Anneaux\" : 12,\n",
    "            \"Harry Potter\" : 9,\n",
    "          \"Blade Runner\" : 7.5 \n",
    "}\n",
    "\n",
    "for value in d.values():\n",
    "    print(value)\n",
    "print(\"*\" * 70)\n",
    "\n",
    "value = d.values()\n",
    "print(value)"
   ]
  },
  {
   "cell_type": "code",
   "execution_count": 61,
   "id": "57493ed3",
   "metadata": {
    "ExecuteTime": {
     "end_time": "2022-10-05T13:37:20.822852Z",
     "start_time": "2022-10-05T13:37:20.810884Z"
    }
   },
   "outputs": [
    {
     "name": "stdout",
     "output_type": "stream",
     "text": [
      "Le Seigneur des Anneaux 12\n",
      "Harry Potter 9\n",
      "Blade Runner 7.5\n"
     ]
    }
   ],
   "source": [
    "d  = {\n",
    " \"Le Seigneur des Anneaux\" : 12,\n",
    "            \"Harry Potter\" : 9,\n",
    "          \"Blade Runner\" : 7.5 \n",
    "}\n",
    "\n",
    "for key, value in d.items():\n",
    "    print(key, value)"
   ]
  },
  {
   "cell_type": "markdown",
   "id": "78b629d9",
   "metadata": {},
   "source": [
    "## Vérifier la présence d'une clé dans un dictionnaire"
   ]
  },
  {
   "cell_type": "code",
   "execution_count": 63,
   "id": "aad8c29e",
   "metadata": {
    "ExecuteTime": {
     "end_time": "2022-10-05T13:49:07.409635Z",
     "start_time": "2022-10-05T13:49:07.395673Z"
    }
   },
   "outputs": [
    {
     "name": "stdout",
     "output_type": "stream",
     "text": [
      "True\n",
      "False\n"
     ]
    }
   ],
   "source": [
    "d  = {\n",
    " \"Le Seigneur des Anneaux\" : 12,\n",
    "            \"Harry Potter\" : 9,\n",
    "          \"Blade Runner\" : 7.5 \n",
    "}\n",
    "\n",
    "print(\"Le Seigneur des Anneaux\" in d)\n",
    "print(\"Top Gun\" in d)"
   ]
  },
  {
   "cell_type": "markdown",
   "id": "95dadbf8",
   "metadata": {
    "ExecuteTime": {
     "end_time": "2022-10-05T13:56:43.114127Z",
     "start_time": "2022-10-05T13:56:43.094181Z"
    }
   },
   "source": [
    "## Compréhension de dictionnaire"
   ]
  },
  {
   "cell_type": "code",
   "execution_count": 70,
   "id": "bba2746c",
   "metadata": {
    "ExecuteTime": {
     "end_time": "2022-10-05T13:56:12.296718Z",
     "start_time": "2022-10-05T13:56:12.286227Z"
    }
   },
   "outputs": [
    {
     "name": "stdout",
     "output_type": "stream",
     "text": [
      "{'spam': 'hams', 'knights': 'lumberjacks', 'bacon': 'sausages'}\n"
     ]
    }
   ],
   "source": [
    "h= {\n",
    "    'spam': 'ham',\n",
    "    'knights': 'lumberjack',\n",
    "    'bacon': 'sausage'\n",
    "}\n",
    "h_with_s = {k:v + 's' for k,v in h.items()}\n",
    "print(h_with_s)"
   ]
  },
  {
   "cell_type": "raw",
   "id": "0eeeee06",
   "metadata": {},
   "source": [
    "## Exercice\n",
    "\n",
    "Dans cet exercice, nous avons un dictionnaire qui représente plusieurs employés d'une entreprise avec différents id.\n",
    "\n",
    "Patrick a quitté l'entreprise cette année, nous devons donc l'enlever du dictionnaire.\n",
    "\n",
    "Julie a fêté son anniversaire hier, il faut donc changer son âge (elle a maintenant 26 ans).\n",
    "\n",
    "Paul quant à lui fêtera son anniversaire la semaine prochaine. Nous voulons donc récupérer son âge pour savoir quel âge il aura.\n",
    "\n",
    "Notre dictionnaire sera donc égal à la fin du script à :\n",
    "\n",
    "employes = {\n",
    "            \"id01\": {\"prenom\": \"Paul\", \"nom\": \"Dupont\", \"age\": 32},\n",
    "            \"id02\": {\"prenom\": \"Julie\", \"nom\": \"Dupuit\", \"age\": 26}\n",
    "            }\n",
    "Il faudra également récupérer l'âge de Paul dans une variable 'age_paul', qui devra donc être égale à 32."
   ]
  },
  {
   "cell_type": "code",
   "execution_count": 92,
   "id": "f77c4706",
   "metadata": {
    "ExecuteTime": {
     "end_time": "2022-10-05T14:39:34.457743Z",
     "start_time": "2022-10-05T14:39:34.432809Z"
    }
   },
   "outputs": [
    {
     "name": "stdout",
     "output_type": "stream",
     "text": [
      "{'id01': {'prenom': 'Paul', 'nom': 'Dupont', 'age': 32}, 'id02': {'prenom': 'Julie', 'nom': 'Dupuit', 'age': 25}}\n",
      "{'id01': {'prenom': 'Paul', 'nom': 'Dupont', 'age': 32}, 'id02': {'prenom': 'Julie', 'nom': 'Dupuit', 'age': 26}}\n",
      "L'âge de Paul est : 32\n"
     ]
    }
   ],
   "source": [
    "employes = {\n",
    "            \"id01\": {\"prenom\": \"Paul\", \"nom\": \"Dupont\", \"age\": 32},\n",
    "            \"id02\": {\"prenom\": \"Julie\", \"nom\": \"Dupuit\", \"age\": 25},\n",
    "            \"id03\": {\"prenom\": \"Patrick\", \"nom\": \"Ferrand\", \"age\": 36}\n",
    "            }\n",
    "\n",
    "# supprimer Patrick du dictionnaire\n",
    "if \"id03\" in employes: \n",
    "    del employes[\"id03\"]\n",
    "    print(employes)\n",
    "\n",
    "# Changer l'âge de Julie\n",
    "employes[\"id02\"][\"age\"] = 26\n",
    "print(employes)\n",
    "\n",
    "# Récupérer l'âge de Paul\n",
    "\n",
    "age_paul = employes[\"id01\"][\"age\"]\n",
    "print(f\"L'âge de Paul est : {age_paul}\")"
   ]
  },
  {
   "cell_type": "markdown",
   "id": "c20951c0",
   "metadata": {},
   "source": [
    "## Questions Réponses: "
   ]
  },
  {
   "cell_type": "raw",
   "id": "aa88a4be",
   "metadata": {},
   "source": [
    "\n",
    "Q1 - Comment peut-on accéder à un élement contenu dans un dictionnaire?\n",
    "R1 - En utilisantune clé à l'intérieur de crochets [] ou via la méthode get.\n",
    "\n",
    "Q2 - Sur quel modèle fonctionne un dictionnaire ?\n",
    "R2 - clé-valeur\n",
    "\n",
    "Q3 - Est-il possible d'avoir deux clés avec le même nom dans un dictionnaire ?\n",
    "R3 - Non ce n'est pas possible \n",
    "\n",
    "Q4 - Quel symbole utilise-t-on pour définir un dictionnaire ?\n",
    "R4 - Les accolades {}\n",
    "\n",
    "Q5 - Pourquoi utiliser la méthode get au lieu des crochets pour récupérer la valeur associée à une clé ?\n",
    "R5 - Pour éviter d'avoir une erreur si la clé n'existe pas \n",
    "\n",
    "Q6 - Quelle méthode utilise-t-on pour ajouter une clé dans un dictionnaire ?\n",
    "R6 - On utilise la syntaxe d[clé] = valeur\n",
    "\n",
    "Q7 - Quand on itère avec une boucle for sur un dictionnaire, par défaut que nous est-il retourné ?\n",
    "R7 - Les clés \n",
    "\n",
    "Q8 - Comment récupérer les clés et les valeurs d'un dictionnaire dans deux listes séparées ?\n",
    "R8 - dictionnaire.keys() et dictionnaire.values()\n"
   ]
  }
 ],
 "metadata": {
  "kernelspec": {
   "display_name": "Python 3",
   "language": "python",
   "name": "python3"
  },
  "language_info": {
   "codemirror_mode": {
    "name": "ipython",
    "version": 3
   },
   "file_extension": ".py",
   "mimetype": "text/x-python",
   "name": "python",
   "nbconvert_exporter": "python",
   "pygments_lexer": "ipython3",
   "version": "3.8.8"
  },
  "toc": {
   "base_numbering": 1,
   "nav_menu": {},
   "number_sections": true,
   "sideBar": true,
   "skip_h1_title": false,
   "title_cell": "Table of Contents",
   "title_sidebar": "Contents",
   "toc_cell": false,
   "toc_position": {},
   "toc_section_display": true,
   "toc_window_display": true
  }
 },
 "nbformat": 4,
 "nbformat_minor": 5
}
