{
 "cells": [
  {
   "cell_type": "markdown",
   "id": "dd6b3deb",
   "metadata": {},
   "source": [
    "# Lire et écrire dans un fichier "
   ]
  },
  {
   "cell_type": "code",
   "execution_count": 57,
   "id": "c22986bc",
   "metadata": {
    "ExecuteTime": {
     "end_time": "2022-09-29T13:57:53.868643Z",
     "start_time": "2022-09-29T13:57:53.856675Z"
    }
   },
   "outputs": [
    {
     "ename": "SyntaxError",
     "evalue": "(unicode error) 'unicodeescape' codec can't decode bytes in position 2-3: truncated \\UXXXXXXXX escape (<ipython-input-57-c3f966b4312d>, line 2)",
     "output_type": "error",
     "traceback": [
      "\u001b[1;36m  File \u001b[1;32m\"<ipython-input-57-c3f966b4312d>\"\u001b[1;36m, line \u001b[1;32m2\u001b[0m\n\u001b[1;33m    chemin = \"C:\\Users\\Utilisateur\\Desktop\\VDE\\python\\partie2\\python_partie_2\\python.txt\"\u001b[0m\n\u001b[1;37m             ^\u001b[0m\n\u001b[1;31mSyntaxError\u001b[0m\u001b[1;31m:\u001b[0m (unicode error) 'unicodeescape' codec can't decode bytes in position 2-3: truncated \\UXXXXXXXX escape\n"
     ]
    }
   ],
   "source": [
    "# ouvrir un fichier \n",
    "chemin = \"C:\\Users\\Utilisateur\\Desktop\\VDE\\python\\partie2\\python_partie_2\\python.txt\"\n",
    "print(chemin)\n",
    "\n",
    "# On voit une erreur que nous allons chercher à resoudre pour l'ouverture du fichier."
   ]
  },
  {
   "cell_type": "code",
   "execution_count": 54,
   "id": "4414ff97",
   "metadata": {
    "ExecuteTime": {
     "end_time": "2022-09-29T13:47:04.220315Z",
     "start_time": "2022-09-29T13:47:04.199370Z"
    }
   },
   "outputs": [
    {
     "name": "stdout",
     "output_type": "stream",
     "text": [
      "  Je vais supprimer le contenu du fichier en utilisant le wJe vais rajouter un cette phrase dans ce fichier sans rien supprimer parce que j'utilise append(c'est le a)Je vais rajouter un cette phrase dans ce fichier sans rien supprimer parce que j'utilise append(c'est le a)Je vais rajouter un cette phrase dans ce fichier sans rien supprimer parce que j'utilise append(c'est le a)Je vais rajouter un cette phrase dans ce fichier sans rien supprimer parce que j'utilise append(c'est le a)\n",
      "0  Je vais rajouter un cette phrase dans ce fichi...                                                                                                                                                                                                                                                                                                                                                                                                                                                   \n",
      "1  Je vais rajouter un cette phrase dans ce fichi...                                                                                                                                                                                                                                                                                                                                                                                                                                                   \n",
      "2  Je vais rajouter un cette phrase dans ce fichi...                                                                                                                                                                                                                                                                                                                                                                                                                                                   \n"
     ]
    }
   ],
   "source": [
    "import pandas as pd\n",
    "#1.Lorsqu'on met le r on peut voir le type de fichier qu'on a \n",
    "chemin = pd.read_csv(r\"C:\\Users\\Utilisateur\\Desktop\\VDE\\python\\partie2\\python_partie_2\\python.txt\")\n",
    "print(chemin)"
   ]
  },
  {
   "cell_type": "code",
   "execution_count": 55,
   "id": "c382873f",
   "metadata": {
    "ExecuteTime": {
     "end_time": "2022-09-29T13:47:16.531397Z",
     "start_time": "2022-09-29T13:47:16.511447Z"
    }
   },
   "outputs": [
    {
     "name": "stdout",
     "output_type": "stream",
     "text": [
      "Je vais supprimer le contenu du fichier en utilisant le wJe vais rajouter un cette phrase dans ce fichier sans rien supprimer parce que j'utilise append(c'est le a)Je vais rajouter un cette phrase dans ce fichier sans rien supprimer parce que j'utilise append(c'est le a)Je vais rajouter un cette phrase dans ce fichier sans rien supprimer parce que j'utilise append(c'est le a)Je vais rajouter un cette phrase dans ce fichier sans rien supprimer parce que j'utilise append(c'est le a)\n",
      "Je vais rajouter un cette phrase dans ce fichier sans rien supprimer parce que j'utilise append(c'est le a)\n",
      "Je vais rajouter un cette phrase dans ce fichier sans rien supprimer parce que j'utilise append(c'est le a)\n",
      "Je vais rajouter un cette phrase dans ce fichier sans rien supprimer parce que j'utilise append(c'est le a)\n"
     ]
    }
   ],
   "source": [
    "#2. pour ouvrir un fichier on doit utiliser le code suivant:\n",
    "chemin = r\"C:\\Users\\Utilisateur\\Desktop\\VDE\\python\\partie2\\python_partie_2\\python.txt\"\n",
    "with open(chemin, 'r', encoding = 'utf-8') as f: \n",
    "    contenu = f.read()\n",
    "    print(contenu)"
   ]
  },
  {
   "cell_type": "code",
   "execution_count": 41,
   "id": "0cb3beff",
   "metadata": {
    "ExecuteTime": {
     "end_time": "2022-09-29T13:42:03.296898Z",
     "start_time": "2022-09-29T13:42:03.287922Z"
    }
   },
   "outputs": [
    {
     "name": "stdout",
     "output_type": "stream",
     "text": [
      "'Je vais supprimer le contenu du fichier en utilisant le w'\n"
     ]
    }
   ],
   "source": [
    "#3. Affichage sans retour à la ligne\n",
    "chemin = r\"C:\\Users\\Utilisateur\\Desktop\\VDE\\python\\partie2\\python_partie_2\\python.txt\"\n",
    "with open(chemin, 'r', encoding = 'utf-8') as f:\n",
    "    contenu = repr(f.read())\n",
    "    print(contenu)"
   ]
  },
  {
   "cell_type": "code",
   "execution_count": 48,
   "id": "02e47871",
   "metadata": {
    "ExecuteTime": {
     "end_time": "2022-09-29T13:42:30.916043Z",
     "start_time": "2022-09-29T13:42:30.895105Z"
    }
   },
   "outputs": [
    {
     "name": "stdout",
     "output_type": "stream",
     "text": [
      "[\"Je vais supprimer le contenu du fichier en utilisant le wJe vais rajouter un cette phrase dans ce fichier sans rien supprimer parce que j'utilise append(c'est le a)Je vais rajouter un cette phrase dans ce fichier sans rien supprimer parce que j'utilise append(c'est le a)Je vais rajouter un cette phrase dans ce fichier sans rien supprimer parce que j'utilise append(c'est le a)\"]\n"
     ]
    }
   ],
   "source": [
    "# 4. affichage sous forme de liste\n",
    "chemin = r\"C:\\Users\\Utilisateur\\Desktop\\VDE\\python\\partie2\\python_partie_2\\python.txt\"\n",
    "with open(chemin, 'r', encoding = 'utf-8') as f:\n",
    "    contenu = f.read().splitlines()\n",
    "    print(contenu)"
   ]
  },
  {
   "cell_type": "code",
   "execution_count": 43,
   "id": "2664e1e2",
   "metadata": {
    "ExecuteTime": {
     "end_time": "2022-09-29T13:42:09.140273Z",
     "start_time": "2022-09-29T13:42:09.118331Z"
    }
   },
   "outputs": [
    {
     "name": "stdout",
     "output_type": "stream",
     "text": [
      "['Je vais supprimer le contenu du fichier en utilisant le w']\n"
     ]
    }
   ],
   "source": [
    "#5 Ecrire dans un fichier\n",
    "chemin = r\"C:\\Users\\Utilisateur\\Desktop\\VDE\\python\\partie2\\python_partie_2\\python.txt\"\n",
    "with open(chemin, 'w') as f:\n",
    "    f.write(\"Je vais supprimer le contenu du fichier en utilisant le w\")\n",
    "    print(contenu)\n",
    "    "
   ]
  },
  {
   "cell_type": "code",
   "execution_count": 49,
   "id": "8bbd150f",
   "metadata": {
    "ExecuteTime": {
     "end_time": "2022-09-29T13:42:34.010768Z",
     "start_time": "2022-09-29T13:42:33.991819Z"
    }
   },
   "outputs": [
    {
     "name": "stdout",
     "output_type": "stream",
     "text": [
      "[\"Je vais supprimer le contenu du fichier en utilisant le wJe vais rajouter un cette phrase dans ce fichier sans rien supprimer parce que j'utilise append(c'est le a)Je vais rajouter un cette phrase dans ce fichier sans rien supprimer parce que j'utilise append(c'est le a)Je vais rajouter un cette phrase dans ce fichier sans rien supprimer parce que j'utilise append(c'est le a)\"]\n"
     ]
    }
   ],
   "source": [
    "chemin = r\"C:\\Users\\Utilisateur\\Desktop\\VDE\\python\\partie2\\python_partie_2\\python.txt\"\n",
    "with open(chemin, 'a') as f:\n",
    "    f.write(\"Je vais rajouter un cette phrase dans ce fichier sans rien supprimer parce que j'utilise append(c'est le a)\")\n",
    "    print(contenu)"
   ]
  },
  {
   "cell_type": "code",
   "execution_count": 53,
   "id": "e8575f7c",
   "metadata": {
    "ExecuteTime": {
     "end_time": "2022-09-29T13:47:00.924131Z",
     "start_time": "2022-09-29T13:47:00.913160Z"
    }
   },
   "outputs": [
    {
     "name": "stdout",
     "output_type": "stream",
     "text": [
      "[\"Je vais supprimer le contenu du fichier en utilisant le wJe vais rajouter un cette phrase dans ce fichier sans rien supprimer parce que j'utilise append(c'est le a)Je vais rajouter un cette phrase dans ce fichier sans rien supprimer parce que j'utilise append(c'est le a)Je vais rajouter un cette phrase dans ce fichier sans rien supprimer parce que j'utilise append(c'est le a)\"]\n"
     ]
    }
   ],
   "source": [
    "#Ici on a pa retour chariot, donc il faut rajouter le \\n en début de phrase\n",
    "\n",
    "chemin = r\"C:\\Users\\Utilisateur\\Desktop\\VDE\\python\\partie2\\python_partie_2\\python.txt\"\n",
    "with open(chemin, 'a') as f:\n",
    "    f.write(\"\\nJe vais rajouter un cette phrase dans ce fichier sans rien supprimer parce que j'utilise append(c'est le a)\")\n",
    "    print(contenu)"
   ]
  },
  {
   "cell_type": "markdown",
   "id": "7550517c",
   "metadata": {
    "ExecuteTime": {
     "end_time": "2022-09-29T13:55:22.451978Z",
     "start_time": "2022-09-29T13:55:22.433028Z"
    }
   },
   "source": [
    "# Les fichier json"
   ]
  },
  {
   "cell_type": "code",
   "execution_count": 61,
   "id": "7a63e75a",
   "metadata": {
    "ExecuteTime": {
     "end_time": "2022-09-29T14:21:44.499415Z",
     "start_time": "2022-09-29T14:21:44.479470Z"
    }
   },
   "outputs": [
    {
     "name": "stdout",
     "output_type": "stream",
     "text": [
      "['Pascal', 'Patrick']\n"
     ]
    }
   ],
   "source": [
    "import json \n",
    "liste = [\"Pascal\", \"Patrick\"]\n",
    "print(liste)"
   ]
  },
  {
   "cell_type": "markdown",
   "id": "2fc25038",
   "metadata": {},
   "source": [
    "## Ecrire dans un fichier json"
   ]
  },
  {
   "cell_type": "code",
   "execution_count": 1,
   "id": "fdb13daf",
   "metadata": {
    "ExecuteTime": {
     "end_time": "2022-10-02T05:33:02.839014Z",
     "start_time": "2022-10-02T05:33:02.811038Z"
    }
   },
   "outputs": [],
   "source": [
    "import json \n",
    "chemin = r\"C:\\Users\\Utilisateur\\Desktop\\VDE\\python\\partie2\\python_partie_2\\python.json\"\n",
    "with open(chemin, 'w') as f:\n",
    "    json.dump(\"Bonjour\", f)"
   ]
  },
  {
   "cell_type": "code",
   "execution_count": 6,
   "id": "751006b1",
   "metadata": {
    "ExecuteTime": {
     "end_time": "2022-10-02T05:57:41.093176Z",
     "start_time": "2022-10-02T05:57:41.082203Z"
    }
   },
   "outputs": [],
   "source": [
    "import json \n",
    "chemin = r\"C:\\Users\\Utilisateur\\Desktop\\VDE\\python\\partie2\\python_partie_2\\python.json\"\n",
    "with open(chemin, \"w\") as f:\n",
    "    json.dump(list(range(10)),f, indent = 4)"
   ]
  },
  {
   "cell_type": "markdown",
   "id": "b57317f8",
   "metadata": {},
   "source": [
    "## Lire dans un fichier json"
   ]
  },
  {
   "cell_type": "code",
   "execution_count": 8,
   "id": "4f30900f",
   "metadata": {
    "ExecuteTime": {
     "end_time": "2022-10-02T06:02:51.675401Z",
     "start_time": "2022-10-02T06:02:51.668416Z"
    }
   },
   "outputs": [
    {
     "name": "stdout",
     "output_type": "stream",
     "text": [
      "[0, 1, 2, 3, 4, 5, 6, 7, 8, 9]\n",
      "<class 'list'>\n"
     ]
    }
   ],
   "source": [
    "import json\n",
    "chemin = r\"C:\\Users\\Utilisateur\\Desktop\\VDE\\python\\partie2\\python_partie_2\\python.json\"\n",
    "with open(chemin, \"r\") as f:\n",
    "    liste = json.load(f)\n",
    "    print(liste)\n",
    "    print(type(liste))"
   ]
  },
  {
   "cell_type": "markdown",
   "id": "fdc4351c",
   "metadata": {},
   "source": [
    "## Ajouter les données dans le module json"
   ]
  },
  {
   "cell_type": "code",
   "execution_count": 15,
   "id": "7cf3b48a",
   "metadata": {
    "ExecuteTime": {
     "end_time": "2022-10-02T06:57:45.439462Z",
     "start_time": "2022-10-02T06:57:45.410541Z"
    }
   },
   "outputs": [
    {
     "name": "stdout",
     "output_type": "stream",
     "text": [
      "[0, 1, 2, 3, 4, 5, 6, 7, 8, 9, 4]\n",
      "[0, 1, 2, 3, 4, 5, 6, 7, 8, 9, 4, 4]\n",
      "[0, 1, 2, 3, 4, 5, 6, 7, 8, 9, 4, 4]\n"
     ]
    }
   ],
   "source": [
    "# étape 1 \n",
    "import json \n",
    "chemin = r\"C:\\Users\\Utilisateur\\Desktop\\VDE\\python\\partie2\\python_partie_2\\python.json\"\n",
    "with open(chemin, \"r\") as f:\n",
    "    donnees = json.load(f)\n",
    "    print(donnees)\n",
    "    \n",
    "    # étape 2: on ajoute 4 à la liste\n",
    "    donnees.append(4)\n",
    "    print(donnees)\n",
    "    \n",
    "    # étape 3: on écrit à nouveau dans la liste de donnée\n",
    "with open(chemin, \"w\") as f:\n",
    "    json.dump(donnees,f, indent = 4)\n",
    "    print(donnees)"
   ]
  },
  {
   "cell_type": "markdown",
   "id": "e29d810a",
   "metadata": {},
   "source": [
    "## Les erreurs courants "
   ]
  },
  {
   "cell_type": "code",
   "execution_count": 7,
   "id": "53ce00e4",
   "metadata": {
    "ExecuteTime": {
     "end_time": "2022-10-03T09:31:29.726978Z",
     "start_time": "2022-10-03T09:31:29.719998Z"
    }
   },
   "outputs": [
    {
     "name": "stdout",
     "output_type": "stream",
     "text": [
      "[\n",
      "    0,\n",
      "    1,\n",
      "    2,\n",
      "    3,\n",
      "    4,\n",
      "    5,\n",
      "    6,\n",
      "    7,\n",
      "    8,\n",
      "    9,\n",
      "    4,\n",
      "    4\n",
      "]\n"
     ]
    }
   ],
   "source": [
    "import json \n",
    "chemin = r\"C:\\Users\\Utilisateur\\Desktop\\VDE\\python\\partie2\\python_partie_2\\python.json\"\n",
    "# Premier read\n",
    "f = open(chemin, \"r\")\n",
    "print(f.read()) "
   ]
  },
  {
   "cell_type": "code",
   "execution_count": 9,
   "id": "c3e27a2f",
   "metadata": {
    "ExecuteTime": {
     "end_time": "2022-10-03T09:32:05.546658Z",
     "start_time": "2022-10-03T09:32:05.527713Z"
    }
   },
   "outputs": [
    {
     "name": "stdout",
     "output_type": "stream",
     "text": [
      "[\n",
      "    0,\n",
      "    1,\n",
      "    2,\n",
      "    3,\n",
      "    4,\n",
      "    5,\n",
      "    6,\n",
      "    7,\n",
      "    8,\n",
      "    9,\n",
      "    4,\n",
      "    4\n",
      "]\n",
      "\n"
     ]
    }
   ],
   "source": [
    "import json \n",
    "chemin = r\"C:\\Users\\Utilisateur\\Desktop\\VDE\\python\\partie2\\python_partie_2\\python.json\"\n",
    "# Premier read\n",
    "f = open(chemin, \"r\")\n",
    "print(f.read()) \n",
    "\n",
    "# Deuxième read sans le seek()\n",
    "contenu = f.read()\n",
    "print(contenu)\n",
    "f.close()"
   ]
  },
  {
   "cell_type": "code",
   "execution_count": 10,
   "id": "08aeecf0",
   "metadata": {
    "ExecuteTime": {
     "end_time": "2022-10-03T09:32:32.366087Z",
     "start_time": "2022-10-03T09:32:32.343611Z"
    }
   },
   "outputs": [
    {
     "name": "stdout",
     "output_type": "stream",
     "text": [
      "[\n",
      "    0,\n",
      "    1,\n",
      "    2,\n",
      "    3,\n",
      "    4,\n",
      "    5,\n",
      "    6,\n",
      "    7,\n",
      "    8,\n",
      "    9,\n",
      "    4,\n",
      "    4\n",
      "]\n",
      "[\n",
      "    0,\n",
      "    1,\n",
      "    2,\n",
      "    3,\n",
      "    4,\n",
      "    5,\n",
      "    6,\n",
      "    7,\n",
      "    8,\n",
      "    9,\n",
      "    4,\n",
      "    4\n",
      "]\n"
     ]
    }
   ],
   "source": [
    "import json \n",
    "chemin = r\"C:\\Users\\Utilisateur\\Desktop\\VDE\\python\\partie2\\python_partie_2\\python.json\"\n",
    "# Premier read\n",
    "f = open(chemin, \"r\")\n",
    "print(f.read()) \n",
    "\n",
    "# Deuxième read avec le seek()\n",
    "f.seek(0) # permet d'affciher la deuxième liste \n",
    "contenu = f.read()\n",
    "print(contenu)\n",
    "f.close()"
   ]
  },
  {
   "cell_type": "code",
   "execution_count": null,
   "id": "11789108",
   "metadata": {},
   "outputs": [],
   "source": []
  }
 ],
 "metadata": {
  "kernelspec": {
   "display_name": "Python 3",
   "language": "python",
   "name": "python3"
  },
  "language_info": {
   "codemirror_mode": {
    "name": "ipython",
    "version": 3
   },
   "file_extension": ".py",
   "mimetype": "text/x-python",
   "name": "python",
   "nbconvert_exporter": "python",
   "pygments_lexer": "ipython3",
   "version": "3.8.8"
  },
  "toc": {
   "base_numbering": 1,
   "nav_menu": {},
   "number_sections": true,
   "sideBar": true,
   "skip_h1_title": false,
   "title_cell": "Table of Contents",
   "title_sidebar": "Contents",
   "toc_cell": false,
   "toc_position": {},
   "toc_section_display": true,
   "toc_window_display": true
  }
 },
 "nbformat": 4,
 "nbformat_minor": 5
}
