{
 "cells": [
  {
   "cell_type": "code",
   "execution_count": 1,
   "id": "c22986bc",
   "metadata": {
    "ExecuteTime": {
     "end_time": "2022-09-29T11:20:04.455306Z",
     "start_time": "2022-09-29T11:20:04.438352Z"
    }
   },
   "outputs": [
    {
     "ename": "SyntaxError",
     "evalue": "(unicode error) 'unicodeescape' codec can't decode bytes in position 2-3: truncated \\UXXXXXXXX escape (<ipython-input-1-c192a580d591>, line 2)",
     "output_type": "error",
     "traceback": [
      "\u001b[1;36m  File \u001b[1;32m\"<ipython-input-1-c192a580d591>\"\u001b[1;36m, line \u001b[1;32m2\u001b[0m\n\u001b[1;33m    chemin = \"C:\\Users\\Utilisateur\\Desktop\\VDE\\python\\python_partie_2\\python.txt\"\u001b[0m\n\u001b[1;37m             ^\u001b[0m\n\u001b[1;31mSyntaxError\u001b[0m\u001b[1;31m:\u001b[0m (unicode error) 'unicodeescape' codec can't decode bytes in position 2-3: truncated \\UXXXXXXXX escape\n"
     ]
    }
   ],
   "source": [
    "# ouvrir un fichier \n",
    "chemin = \"C:\\Users\\Utilisateur\\Desktop\\VDE\\python\\partie2\\python_partie_2\\python.txt\"\n",
    "print(chemin)\n",
    "\n",
    "# On voit une erreur que nous allons chercher à resoudre pour l'ouverture du fichier."
   ]
  },
  {
   "cell_type": "code",
   "execution_count": 12,
   "id": "4414ff97",
   "metadata": {
    "ExecuteTime": {
     "end_time": "2022-09-29T12:50:26.543862Z",
     "start_time": "2022-09-29T12:50:26.535883Z"
    }
   },
   "outputs": [
    {
     "name": "stdout",
     "output_type": "stream",
     "text": [
      "C:\\Users\\Utilisateur\\Desktop\\VDE\\python\\partie2\\python_partie_2\\python.txt\n"
     ]
    }
   ],
   "source": [
    "#1.Lorsqu'on met le r on peut voir le type de fichier qu'on a \n",
    "chemin = r\"C:\\Users\\Utilisateur\\Desktop\\VDE\\python\\partie2\\python_partie_2\\python.txt\"\n",
    "print(chemin)"
   ]
  },
  {
   "cell_type": "code",
   "execution_count": 13,
   "id": "c382873f",
   "metadata": {
    "ExecuteTime": {
     "end_time": "2022-09-29T12:50:29.004377Z",
     "start_time": "2022-09-29T12:50:28.984422Z"
    }
   },
   "outputs": [
    {
     "name": "stdout",
     "output_type": "stream",
     "text": [
      "Je vais effacer le contenu de mon fichier en faisant ceciJe vais effacer le contenu de mon fichier en faisant ceci\n"
     ]
    }
   ],
   "source": [
    "#2. pour ouvrir un fichier on doit utiliser le code suivant:\n",
    "chemin = r\"C:\\Users\\Utilisateur\\Desktop\\VDE\\python\\partie2\\python_partie_2\\python.txt\"\n",
    "with open(chemin, 'r', encoding = 'utf-8') as f: \n",
    "    contenu = f.read()\n",
    "    print(contenu)"
   ]
  },
  {
   "cell_type": "code",
   "execution_count": 14,
   "id": "0cb3beff",
   "metadata": {
    "ExecuteTime": {
     "end_time": "2022-09-29T12:50:56.150778Z",
     "start_time": "2022-09-29T12:50:56.129834Z"
    }
   },
   "outputs": [
    {
     "name": "stdout",
     "output_type": "stream",
     "text": [
      "'Je vais effacer le contenu de mon fichier en faisant ceciJe vais effacer le contenu de mon fichier en faisant ceci'\n"
     ]
    }
   ],
   "source": [
    "#3. Affichage sans retour à la ligne\n",
    "chemin = r\"C:\\Users\\Utilisateur\\Desktop\\VDE\\python\\partie2\\python_partie_2\\python.txt\"\n",
    "with open(chemin, 'r', encoding = 'utf-8') as f:\n",
    "    contenu = repr(f.read())\n",
    "    print(contenu)"
   ]
  },
  {
   "cell_type": "code",
   "execution_count": 16,
   "id": "02e47871",
   "metadata": {
    "ExecuteTime": {
     "end_time": "2022-09-29T12:51:17.372034Z",
     "start_time": "2022-09-29T12:51:17.361061Z"
    }
   },
   "outputs": [
    {
     "name": "stdout",
     "output_type": "stream",
     "text": [
      "['Je vais effacer le contenu de mon fichier en faisant ceci']\n"
     ]
    }
   ],
   "source": [
    "# 4. affichage sous forme de liste\n",
    "chemin = r\"C:\\Users\\Utilisateur\\Desktop\\VDE\\python\\partie2\\python_partie_2\\python.txt\"\n",
    "with open(chemin, 'r', encoding = 'utf-8') as f:\n",
    "    contenu = f.read().splitlines()\n",
    "    print(contenu)"
   ]
  },
  {
   "cell_type": "code",
   "execution_count": 17,
   "id": "8a2d688b",
   "metadata": {
    "ExecuteTime": {
     "end_time": "2022-09-29T12:51:35.181446Z",
     "start_time": "2022-09-29T12:51:35.160501Z"
    }
   },
   "outputs": [
    {
     "name": "stdout",
     "output_type": "stream",
     "text": [
      "['Je vais effacer le contenu de mon fichier en faisant ceci']\n"
     ]
    }
   ],
   "source": [
    "#5 Ecrire dans un fichier\n",
    "chemin = r\"C:\\Users\\Utilisateur\\Desktop\\VDE\\python\\partie2\\python_partie_2\\python.txt\"\n",
    "with open(chemin, 'w') as f:\n",
    "    f.write(\"Je vais effacer le contenu de mon fichier en faisant ceci\")\n",
    "    print(contenu)\n",
    "    "
   ]
  },
  {
   "cell_type": "code",
   "execution_count": null,
   "id": "269802c5",
   "metadata": {},
   "outputs": [],
   "source": []
  }
 ],
 "metadata": {
  "kernelspec": {
   "display_name": "Python 3",
   "language": "python",
   "name": "python3"
  },
  "language_info": {
   "codemirror_mode": {
    "name": "ipython",
    "version": 3
   },
   "file_extension": ".py",
   "mimetype": "text/x-python",
   "name": "python",
   "nbconvert_exporter": "python",
   "pygments_lexer": "ipython3",
   "version": "3.8.8"
  },
  "toc": {
   "base_numbering": 1,
   "nav_menu": {},
   "number_sections": true,
   "sideBar": true,
   "skip_h1_title": false,
   "title_cell": "Table of Contents",
   "title_sidebar": "Contents",
   "toc_cell": false,
   "toc_position": {},
   "toc_section_display": true,
   "toc_window_display": false
  }
 },
 "nbformat": 4,
 "nbformat_minor": 5
}
