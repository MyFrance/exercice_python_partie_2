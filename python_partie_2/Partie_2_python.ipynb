{
 "cells": [
  {
   "cell_type": "code",
   "execution_count": 1,
   "id": "c22986bc",
   "metadata": {
    "ExecuteTime": {
     "end_time": "2022-09-29T11:20:04.455306Z",
     "start_time": "2022-09-29T11:20:04.438352Z"
    }
   },
   "outputs": [
    {
     "ename": "SyntaxError",
     "evalue": "(unicode error) 'unicodeescape' codec can't decode bytes in position 2-3: truncated \\UXXXXXXXX escape (<ipython-input-1-c192a580d591>, line 2)",
     "output_type": "error",
     "traceback": [
      "\u001b[1;36m  File \u001b[1;32m\"<ipython-input-1-c192a580d591>\"\u001b[1;36m, line \u001b[1;32m2\u001b[0m\n\u001b[1;33m    chemin = \"C:\\Users\\Utilisateur\\Desktop\\VDE\\python\\python_partie_2\\python.txt\"\u001b[0m\n\u001b[1;37m             ^\u001b[0m\n\u001b[1;31mSyntaxError\u001b[0m\u001b[1;31m:\u001b[0m (unicode error) 'unicodeescape' codec can't decode bytes in position 2-3: truncated \\UXXXXXXXX escape\n"
     ]
    }
   ],
   "source": [
    "# ouvrir un fichier \n",
    "chemin = \"C:\\Users\\Utilisateur\\Desktop\\VDE\\python\\python_partie_2\\python.txt\"\n",
    "print(chemin)\n",
    "\n",
    "# On voit une erreur que nous allons chercher à resoudre pour l'ouverture du fichier."
   ]
  },
  {
   "cell_type": "code",
   "execution_count": 3,
   "id": "4414ff97",
   "metadata": {
    "ExecuteTime": {
     "end_time": "2022-09-29T11:42:39.463605Z",
     "start_time": "2022-09-29T11:42:39.456622Z"
    }
   },
   "outputs": [
    {
     "name": "stdout",
     "output_type": "stream",
     "text": [
      "C:\\Users\\Utilisateur\\Desktop\\VDE\\python\\partie2\\python.txt\n"
     ]
    }
   ],
   "source": [
    "#1.Lorsqu'on met le r on peut voir le type de fichier qu'on a \n",
    "chemin = r\"C:\\Users\\Utilisateur\\Desktop\\VDE\\python\\partie2\\python.txt\"\n",
    "print(chemin)"
   ]
  },
  {
   "cell_type": "code",
   "execution_count": 4,
   "id": "c382873f",
   "metadata": {
    "ExecuteTime": {
     "end_time": "2022-09-29T11:42:41.517619Z",
     "start_time": "2022-09-29T11:42:41.496674Z"
    }
   },
   "outputs": [
    {
     "name": "stdout",
     "output_type": "stream",
     "text": [
      "Je suis là\n",
      "pour apprendre python \n",
      "le plus rapidement\n",
      "possible \n"
     ]
    }
   ],
   "source": [
    "#2. pour ouvrir un fichier on doit utiliser le code suivant:\n",
    "chemin = r\"C:\\Users\\Utilisateur\\Desktop\\VDE\\python\\partie2\\python.txt\"\n",
    "with open(chemin, 'r', encoding = 'utf-8') as f: \n",
    "    contenu = f.read()\n",
    "    print(contenu)"
   ]
  },
  {
   "cell_type": "code",
   "execution_count": 5,
   "id": "0cb3beff",
   "metadata": {
    "ExecuteTime": {
     "end_time": "2022-09-29T11:42:43.578654Z",
     "start_time": "2022-09-29T11:42:43.561700Z"
    }
   },
   "outputs": [
    {
     "name": "stdout",
     "output_type": "stream",
     "text": [
      "'Je suis là\\npour apprendre python \\nle plus rapidement\\npossible '\n"
     ]
    }
   ],
   "source": [
    "#3. Affichage sans retour à la ligne\n",
    "chemin = r\"C:\\Users\\Utilisateur\\Desktop\\VDE\\python\\partie2\\python.txt\"\n",
    "with open(chemin, 'r', encoding = 'utf-8') as f:\n",
    "    contenu = repr(f.read())\n",
    "    print(contenu)"
   ]
  },
  {
   "cell_type": "code",
   "execution_count": 6,
   "id": "02e47871",
   "metadata": {
    "ExecuteTime": {
     "end_time": "2022-09-29T11:42:46.424625Z",
     "start_time": "2022-09-29T11:42:46.415648Z"
    }
   },
   "outputs": [
    {
     "name": "stdout",
     "output_type": "stream",
     "text": [
      "['Je suis là', 'pour apprendre python ', 'le plus rapidement', 'possible ']\n"
     ]
    }
   ],
   "source": [
    "# 4. affichage sous forme de liste\n",
    "chemin = r\"C:\\Users\\Utilisateur\\Desktop\\VDE\\python\\partie2\\python.txt\"\n",
    "with open(chemin, 'r', encoding = 'utf-8') as f:\n",
    "    contenu = f.read().splitlines()\n",
    "    print(contenu)"
   ]
  },
  {
   "cell_type": "code",
   "execution_count": null,
   "id": "a3c19c8e",
   "metadata": {},
   "outputs": [],
   "source": []
  }
 ],
 "metadata": {
  "kernelspec": {
   "display_name": "Python 3",
   "language": "python",
   "name": "python3"
  },
  "language_info": {
   "codemirror_mode": {
    "name": "ipython",
    "version": 3
   },
   "file_extension": ".py",
   "mimetype": "text/x-python",
   "name": "python",
   "nbconvert_exporter": "python",
   "pygments_lexer": "ipython3",
   "version": "3.8.8"
  },
  "toc": {
   "base_numbering": 1,
   "nav_menu": {},
   "number_sections": true,
   "sideBar": true,
   "skip_h1_title": false,
   "title_cell": "Table of Contents",
   "title_sidebar": "Contents",
   "toc_cell": false,
   "toc_position": {},
   "toc_section_display": true,
   "toc_window_display": false
  }
 },
 "nbformat": 4,
 "nbformat_minor": 5
}
