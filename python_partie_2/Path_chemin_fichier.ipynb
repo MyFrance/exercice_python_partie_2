{
 "cells": [
  {
   "cell_type": "code",
   "execution_count": 24,
   "id": "f1c3da79",
   "metadata": {
    "ExecuteTime": {
     "end_time": "2022-10-03T13:52:17.500059Z",
     "start_time": "2022-10-03T13:52:17.481079Z"
    }
   },
   "outputs": [
    {
     "data": {
      "text/plain": [
       "'.py'"
      ]
     },
     "execution_count": 24,
     "metadata": {},
     "output_type": "execute_result"
    }
   ],
   "source": [
    "from pathlib import Path\n",
    "p = Path.home()\n",
    "p /\"bureau\"\n",
    "p.joinpath(\"document\", \"main\", \"sujet\")\n",
    "\n",
    "# récupérer le suffix \n",
    "p.joinpath(\"document\", \"main\", \"sujet.py\").suffix"
   ]
  },
  {
   "cell_type": "code",
   "execution_count": 40,
   "id": "dfb818b2",
   "metadata": {
    "ExecuteTime": {
     "end_time": "2022-10-03T14:30:01.083209Z",
     "start_time": "2022-10-03T14:30:01.073240Z"
    }
   },
   "outputs": [
    {
     "name": "stdout",
     "output_type": "stream",
     "text": [
      "Nom du fichier:  PATH_gerer_chemin_fichier.html\n",
      "Extension du fichier :  PATH_gerer_chemin_fichier\n",
      "suffixe :  .html\n",
      "suffixes :  ['.html']\n",
      "La liste du chemin complet :  ('C:\\\\', 'Users', 'Utilisateur', 'Desktop', 'VDE', 'python', 'partie2', 'python_vs_code', 'PATH_gerer_chemin_fichier.html')\n",
      "\n",
      "Est-ce-que le fichier existe ?  <bound method Path.exists of WindowsPath('C:/Users/Utilisateur/Desktop/VDE/python/partie2/python_vs_code/PATH_gerer_chemin_fichier.html')>\n",
      "\n",
      "   <bound method Path.is_dir of WindowsPath('C:/Users/Utilisateur/Desktop/VDE/python/partie2/python_vs_code/PATH_gerer_chemin_fichier.html')>\n",
      "   <bound method Path.is_file of WindowsPath('C:/Users/Utilisateur/Desktop/VDE/python/partie2/python_vs_code/PATH_gerer_chemin_fichier.html')>\n"
     ]
    }
   ],
   "source": [
    "p = Path(r\"C:\\Users\\Utilisateur\\Desktop\\VDE\\python\\partie2\\python_vs_code\\PATH_gerer_chemin_fichier.html\")\n",
    "print(f\"Nom du fichier:  {p.name}\")\n",
    "print(f\"Extension du fichier :  {p.stem}\")\n",
    "print(f\"suffixe :  {p.suffix}\")\n",
    "print(f\"suffixes :  {p.suffixes}\")\n",
    "print(f\"La liste du chemin complet :  {p.parts}\\n\")\n",
    "print(f\"Est-ce-que le fichier existe ?  {p.exists}\\n\")\n",
    "print(f\"   {p.is_dir}\")\n",
    "print(f\"   {p.is_file}\")"
   ]
  },
  {
   "cell_type": "code",
   "execution_count": null,
   "id": "bc3d7d42",
   "metadata": {},
   "outputs": [],
   "source": []
  }
 ],
 "metadata": {
  "kernelspec": {
   "display_name": "Python 3",
   "language": "python",
   "name": "python3"
  },
  "language_info": {
   "codemirror_mode": {
    "name": "ipython",
    "version": 3
   },
   "file_extension": ".py",
   "mimetype": "text/x-python",
   "name": "python",
   "nbconvert_exporter": "python",
   "pygments_lexer": "ipython3",
   "version": "3.8.8"
  },
  "toc": {
   "base_numbering": 1,
   "nav_menu": {},
   "number_sections": true,
   "sideBar": true,
   "skip_h1_title": false,
   "title_cell": "Table of Contents",
   "title_sidebar": "Contents",
   "toc_cell": false,
   "toc_position": {},
   "toc_section_display": true,
   "toc_window_display": false
  }
 },
 "nbformat": 4,
 "nbformat_minor": 5
}
