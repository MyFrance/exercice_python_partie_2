{
 "cells": [
  {
   "cell_type": "markdown",
   "id": "4521c9f2",
   "metadata": {},
   "source": [
    "projet: organiser les données \n",
    "Ouvrir le fichier prenoms.txt et lire son contenu.\n",
    "\n",
    "Récupérer chaque prénom séparément dans une liste.\n",
    "\n",
    "Nettoyer les prénoms pour enlever les virgules, points ou espace.\n",
    "\n",
    "Écrire la liste ordonnée et nettoyée dans un nouveau fichier texte."
   ]
  },
  {
   "cell_type": "code",
   "execution_count": 31,
   "id": "f466515f",
   "metadata": {
    "ExecuteTime": {
     "end_time": "2022-10-10T07:25:08.498632Z",
     "start_time": "2022-10-10T07:25:08.488658Z"
    }
   },
   "outputs": [],
   "source": [
    "from pprint import pprint\n",
    "\n",
    "chemin_prenoms = (r\"C:\\Users\\Utilisateur\\Desktop\\VDE\\python\\partie2\\python_partie_2\\prenom.txt\")\n",
    "\n",
    "with open(chemin_prenoms, 'r', encoding = 'utf-8') as f:\n",
    "    liste_prenom = f.read().splitlines()\n",
    "    #pprint(liste_prenom)\n",
    "\n",
    "    # On va récupérer les prénoms séparement\n",
    "prenoms = []\n",
    "for prenom in liste_prenom:\n",
    "    prenoms.extend(prenom.split())\n",
    "#pprint(prenoms)\n",
    "\n",
    "prenom_final = [prenom.strip(\",. \") for prenom in prenoms]\n",
    "#pprint(prenom_final)\n",
    "\n",
    "#On va ensuite réécrire prenom final dans le fichier\n",
    "\n",
    "with open(r\"C:\\Users\\Utilisateur\\Desktop\\VDE\\python\\partie2\\python_partie_2\\prenom_final.txt\", 'w', encoding = 'utf-8') as f:\n",
    "    f.write(\"\\n\".join(sorted(prenom_final)))\n",
    "\n",
    "\n",
    "#splitlines() permet de separer chaque nom en enlevant \\n et retourne une liste  \n",
    "# la méthode extend permet d'ajouter dans  la liste prenoms chaque prenom séparement\n",
    "# La méthode strip permet d'enlever la virgule, le point et l'espace dans la liste prenom"
   ]
  },
  {
   "cell_type": "code",
   "execution_count": null,
   "id": "aef388e3",
   "metadata": {},
   "outputs": [],
   "source": []
  }
 ],
 "metadata": {
  "kernelspec": {
   "display_name": "Python 3",
   "language": "python",
   "name": "python3"
  },
  "language_info": {
   "codemirror_mode": {
    "name": "ipython",
    "version": 3
   },
   "file_extension": ".py",
   "mimetype": "text/x-python",
   "name": "python",
   "nbconvert_exporter": "python",
   "pygments_lexer": "ipython3",
   "version": "3.8.8"
  },
  "toc": {
   "base_numbering": 1,
   "nav_menu": {},
   "number_sections": true,
   "sideBar": true,
   "skip_h1_title": false,
   "title_cell": "Table of Contents",
   "title_sidebar": "Contents",
   "toc_cell": false,
   "toc_position": {},
   "toc_section_display": true,
   "toc_window_display": false
  }
 },
 "nbformat": 4,
 "nbformat_minor": 5
}
