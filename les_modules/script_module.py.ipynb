{
 "cells": [
  {
   "cell_type": "code",
   "execution_count": 1,
   "id": "359cd92a",
   "metadata": {
    "ExecuteTime": {
     "end_time": "2022-10-11T12:43:05.610121Z",
     "start_time": "2022-10-11T12:43:05.592169Z"
    }
   },
   "outputs": [
    {
     "name": "stdout",
     "output_type": "stream",
     "text": [
      "9\n"
     ]
    }
   ],
   "source": [
    "# utilisation de la fonction __name__\n",
    "\n",
    "def addition(a, b):\n",
    "    return a + b \n",
    "\n",
    "# On teste le bon fonctionnement de la fonction \n",
    "print(addition(4,5))\n",
    "\n",
    "# on va pouvoir utiliser cette fonction  à l'intérieur de fichier module"
   ]
  },
  {
   "cell_type": "code",
   "execution_count": null,
   "id": "8825eb83",
   "metadata": {},
   "outputs": [],
   "source": []
  }
 ],
 "metadata": {
  "kernelspec": {
   "display_name": "Python 3",
   "language": "python",
   "name": "python3"
  },
  "language_info": {
   "codemirror_mode": {
    "name": "ipython",
    "version": 3
   },
   "file_extension": ".py",
   "mimetype": "text/x-python",
   "name": "python",
   "nbconvert_exporter": "python",
   "pygments_lexer": "ipython3",
   "version": "3.8.8"
  },
  "toc": {
   "base_numbering": 1,
   "nav_menu": {},
   "number_sections": true,
   "sideBar": true,
   "skip_h1_title": false,
   "title_cell": "Table of Contents",
   "title_sidebar": "Contents",
   "toc_cell": false,
   "toc_position": {},
   "toc_section_display": true,
   "toc_window_display": false
  }
 },
 "nbformat": 4,
 "nbformat_minor": 5
}
