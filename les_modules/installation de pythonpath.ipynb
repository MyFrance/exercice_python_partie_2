{
 "cells": [
  {
   "cell_type": "code",
   "execution_count": 2,
   "id": "add46c80",
   "metadata": {
    "ExecuteTime": {
     "end_time": "2022-10-12T07:09:27.367057Z",
     "start_time": "2022-10-12T07:09:27.321178Z"
    }
   },
   "outputs": [
    {
     "data": {
      "text/plain": [
       "{'argv': ['python', '-m', 'ipykernel_launcher', '-f', '{connection_file}'],\n",
       " 'display_name': 'Python 3',\n",
       " 'language': 'python'}"
      ]
     },
     "execution_count": 2,
     "metadata": {},
     "output_type": "execute_result"
    }
   ],
   "source": [
    "{\n",
    " \"argv\": [\n",
    "  \"python\",\n",
    "  \"-m\",\n",
    "  \"ipykernel_launcher\",\n",
    "  \"-f\",\n",
    "  \"{connection_file}\"\n",
    " ],\n",
    " \"display_name\": \"Python 3\",\n",
    " \"language\": \"python\"\n",
    "}"
   ]
  },
  {
   "cell_type": "code",
   "execution_count": 4,
   "id": "20dd3935",
   "metadata": {
    "ExecuteTime": {
     "end_time": "2022-10-12T07:33:54.177759Z",
     "start_time": "2022-10-12T07:33:54.159768Z"
    }
   },
   "outputs": [
    {
     "data": {
      "text/plain": [
       "{'argv': ['C:/ProgramData/Anaconda3/bin/python',\n",
       "  '-m',\n",
       "  'ipykernel_launcher',\n",
       "  '-f',\n",
       "  '{connection_file}'],\n",
       " 'display_name': 'Python 3',\n",
       " 'language': 'python',\n",
       " 'env': {'PYTHONPATH': '${PYTHONPATH}:$C:\\\\ProgramData\\\\jupyter'}}"
      ]
     },
     "execution_count": 4,
     "metadata": {},
     "output_type": "execute_result"
    }
   ],
   "source": [
    "{\n",
    "  \"argv\": [\n",
    "    \"C:/ProgramData/Anaconda3/bin/python\",\n",
    "    \"-m\",\n",
    "    \"ipykernel_launcher\",\n",
    "    \"-f\",\n",
    "    \"{connection_file}\"\n",
    "  ],\n",
    "  \"display_name\": \"Python 3\",\n",
    "  \"language\": \"python\",\n",
    "  \"env\": {\n",
    "    \"PYTHONPATH\": \"${PYTHONPATH}:$C:\\ProgramData\\jupyter\"\n",
    "  }\n",
    "}"
   ]
  },
  {
   "cell_type": "code",
   "execution_count": 5,
   "id": "a2310396",
   "metadata": {
    "ExecuteTime": {
     "end_time": "2022-10-12T07:35:53.894200Z",
     "start_time": "2022-10-12T07:35:53.871251Z"
    }
   },
   "outputs": [
    {
     "name": "stdout",
     "output_type": "stream",
     "text": [
      "['C:\\\\Users\\\\Utilisateur\\\\Desktop\\\\VDE\\\\python\\\\partie2\\\\les_modules', 'C:\\\\ProgramData\\\\Anaconda3\\\\python38.zip', 'C:\\\\ProgramData\\\\Anaconda3\\\\DLLs', 'C:\\\\ProgramData\\\\Anaconda3\\\\lib', 'C:\\\\ProgramData\\\\Anaconda3', '', 'C:\\\\ProgramData\\\\Anaconda3\\\\lib\\\\site-packages', 'C:\\\\ProgramData\\\\Anaconda3\\\\lib\\\\site-packages\\\\locket-0.2.1-py3.8.egg', 'C:\\\\ProgramData\\\\Anaconda3\\\\lib\\\\site-packages\\\\win32', 'C:\\\\ProgramData\\\\Anaconda3\\\\lib\\\\site-packages\\\\win32\\\\lib', 'C:\\\\ProgramData\\\\Anaconda3\\\\lib\\\\site-packages\\\\Pythonwin', 'C:\\\\ProgramData\\\\Anaconda3\\\\lib\\\\site-packages\\\\IPython\\\\extensions', 'C:\\\\Users\\\\Utilisateur\\\\.ipython']\n"
     ]
    }
   ],
   "source": [
    "import sys\n",
    "print(sys.path)"
   ]
  },
  {
   "cell_type": "code",
   "execution_count": null,
   "id": "54ef8ecb",
   "metadata": {},
   "outputs": [],
   "source": []
  }
 ],
 "metadata": {
  "kernelspec": {
   "display_name": "Python 3",
   "language": "python",
   "name": "python3"
  },
  "language_info": {
   "codemirror_mode": {
    "name": "ipython",
    "version": 3
   },
   "file_extension": ".py",
   "mimetype": "text/x-python",
   "name": "python",
   "nbconvert_exporter": "python",
   "pygments_lexer": "ipython3",
   "version": "3.8.8"
  },
  "toc": {
   "base_numbering": 1,
   "nav_menu": {},
   "number_sections": true,
   "sideBar": true,
   "skip_h1_title": false,
   "title_cell": "Table of Contents",
   "title_sidebar": "Contents",
   "toc_cell": false,
   "toc_position": {},
   "toc_section_display": true,
   "toc_window_display": false
  }
 },
 "nbformat": 4,
 "nbformat_minor": 5
}
