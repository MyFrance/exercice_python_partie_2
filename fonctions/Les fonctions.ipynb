{
 "cells": [
  {
   "cell_type": "markdown",
   "id": "f533a369",
   "metadata": {},
   "source": [
    "# Définition d'une fonction "
   ]
  },
  {
   "cell_type": "code",
   "execution_count": 6,
   "id": "342eb32c",
   "metadata": {
    "ExecuteTime": {
     "end_time": "2022-10-10T12:12:15.739616Z",
     "start_time": "2022-10-10T12:12:15.719670Z"
    }
   },
   "outputs": [
    {
     "data": {
      "text/plain": [
       "15"
      ]
     },
     "execution_count": 6,
     "metadata": {},
     "output_type": "execute_result"
    }
   ],
   "source": [
    "def somme(a, b): \n",
    "    return a + b\n",
    "\n",
    "\n",
    "somme(5,10)"
   ]
  },
  {
   "cell_type": "code",
   "execution_count": 10,
   "id": "2d87ce5d",
   "metadata": {
    "ExecuteTime": {
     "end_time": "2022-10-10T12:32:20.509347Z",
     "start_time": "2022-10-10T12:32:20.501367Z"
    }
   },
   "outputs": [
    {
     "data": {
      "text/plain": [
       "14"
      ]
     },
     "execution_count": 10,
     "metadata": {},
     "output_type": "execute_result"
    }
   ],
   "source": [
    "def add(a = 1, b= 2, c= 6):\n",
    "    return a + b + c \n",
    "\n",
    "add(3,5 )"
   ]
  },
  {
   "cell_type": "code",
   "execution_count": 13,
   "id": "329d206c",
   "metadata": {
    "ExecuteTime": {
     "end_time": "2022-10-10T13:04:13.799813Z",
     "start_time": "2022-10-10T13:04:13.790838Z"
    }
   },
   "outputs": [
    {
     "name": "stdout",
     "output_type": "stream",
     "text": [
      "10\n"
     ]
    }
   ],
   "source": [
    "ma_varaible = 10\n",
    "\n",
    "def afficher_variable(): \n",
    "    print(ma_varaible)\n",
    "\n",
    "afficher_variable()"
   ]
  },
  {
   "cell_type": "code",
   "execution_count": 14,
   "id": "b67cd482",
   "metadata": {
    "ExecuteTime": {
     "end_time": "2022-10-10T13:07:01.762617Z",
     "start_time": "2022-10-10T13:07:01.745663Z"
    }
   },
   "outputs": [
    {
     "data": {
      "text/plain": [
       "7"
      ]
     },
     "execution_count": 14,
     "metadata": {},
     "output_type": "execute_result"
    }
   ],
   "source": [
    "a = 5\n",
    "def add(a= 1, b= 2):\n",
    "    return a + b\n",
    "add(a)"
   ]
  },
  {
   "cell_type": "code",
   "execution_count": 16,
   "id": "e495d74a",
   "metadata": {
    "ExecuteTime": {
     "end_time": "2022-10-10T13:10:25.296569Z",
     "start_time": "2022-10-10T13:10:25.282607Z"
    }
   },
   "outputs": [
    {
     "name": "stdout",
     "output_type": "stream",
     "text": [
      "5\n",
      "10\n"
     ]
    }
   ],
   "source": [
    "def foo(): \n",
    "    a = 5 \n",
    "    print(a)\n",
    "    \n",
    "a = 10\n",
    "foo()\n",
    "print(a)"
   ]
  },
  {
   "cell_type": "markdown",
   "id": "5949b724",
   "metadata": {},
   "source": [
    "# Fontion global et locals"
   ]
  },
  {
   "cell_type": "code",
   "execution_count": 5,
   "id": "aff29c3b",
   "metadata": {
    "ExecuteTime": {
     "end_time": "2022-10-11T07:09:35.357940Z",
     "start_time": "2022-10-11T07:09:35.340986Z"
    }
   },
   "outputs": [
    {
     "name": "stdout",
     "output_type": "stream",
     "text": [
      "{'__name__': '__main__', '__doc__': 'Automatically created module for IPython interactive environment', '__package__': None, '__loader__': None, '__spec__': None, '__builtin__': <module 'builtins' (built-in)>, '__builtins__': <module 'builtins' (built-in)>, '_ih': ['', 'def foo(): \\n    b= 5 \\n\\na = 5 \\nfoo()\\n\\nprint(globals())', \"def foo(): \\n    b= 5 \\n\\na = 5 \\nfoo()\\n\\nprint(global())\\n\\n#Dans l'espace global non a beaucoup de chose qui sont définis par exemple '__name__'\", \"def foo(): \\n    b= 5 \\n\\na = 5 \\nfoo()\\n\\nprint(globals())\\n\\n#Dans l'espace global non a beaucoup de chose qui sont définis par exemple '__name__'\", \"def foo(): \\n    b= 5 \\n\\na = 5 \\nfoo()\\n\\nprint(globals())\\n\\n#Dans l'espace global non a beaucoup de chose qui sont définis par exemple '__name__'\", \"def foo(): \\n    b= 5 \\n\\na = 5 \\nfoo()\\n\\nprint(globals())\\n\\n#Dans l'espace global non a beaucoup de chose qui sont définis par exemple '__name__'\"], '_oh': {}, '_dh': ['C:\\\\Users\\\\Utilisateur\\\\Desktop\\\\VDE\\\\python\\\\partie2\\\\fonctions'], 'In': ['', 'def foo(): \\n    b= 5 \\n\\na = 5 \\nfoo()\\n\\nprint(globals())', \"def foo(): \\n    b= 5 \\n\\na = 5 \\nfoo()\\n\\nprint(global())\\n\\n#Dans l'espace global non a beaucoup de chose qui sont définis par exemple '__name__'\", \"def foo(): \\n    b= 5 \\n\\na = 5 \\nfoo()\\n\\nprint(globals())\\n\\n#Dans l'espace global non a beaucoup de chose qui sont définis par exemple '__name__'\", \"def foo(): \\n    b= 5 \\n\\na = 5 \\nfoo()\\n\\nprint(globals())\\n\\n#Dans l'espace global non a beaucoup de chose qui sont définis par exemple '__name__'\", \"def foo(): \\n    b= 5 \\n\\na = 5 \\nfoo()\\n\\nprint(globals())\\n\\n#Dans l'espace global non a beaucoup de chose qui sont définis par exemple '__name__'\"], 'Out': {}, 'get_ipython': <bound method InteractiveShell.get_ipython of <ipykernel.zmqshell.ZMQInteractiveShell object at 0x000001FFF5E0EF40>>, 'exit': <IPython.core.autocall.ZMQExitAutocall object at 0x000001FFF5E86220>, 'quit': <IPython.core.autocall.ZMQExitAutocall object at 0x000001FFF5E86220>, '_': '', '__': '', '___': '', '_i': \"def foo(): \\n    b= 5 \\n\\na = 5 \\nfoo()\\n\\nprint(globals())\\n\\n#Dans l'espace global non a beaucoup de chose qui sont définis par exemple '__name__'\", '_ii': \"def foo(): \\n    b= 5 \\n\\na = 5 \\nfoo()\\n\\nprint(globals())\\n\\n#Dans l'espace global non a beaucoup de chose qui sont définis par exemple '__name__'\", '_iii': \"def foo(): \\n    b= 5 \\n\\na = 5 \\nfoo()\\n\\nprint(global())\\n\\n#Dans l'espace global non a beaucoup de chose qui sont définis par exemple '__name__'\", '_i1': 'def foo(): \\n    b= 5 \\n\\na = 5 \\nfoo()\\n\\nprint(globals())', 'foo': <function foo at 0x000001FFF5ED8040>, 'a': 5, '_i2': \"def foo(): \\n    b= 5 \\n\\na = 5 \\nfoo()\\n\\nprint(global())\\n\\n#Dans l'espace global non a beaucoup de chose qui sont définis par exemple '__name__'\", '_i3': \"def foo(): \\n    b= 5 \\n\\na = 5 \\nfoo()\\n\\nprint(globals())\\n\\n#Dans l'espace global non a beaucoup de chose qui sont définis par exemple '__name__'\", '_i4': \"def foo(): \\n    b= 5 \\n\\na = 5 \\nfoo()\\n\\nprint(globals())\\n\\n#Dans l'espace global non a beaucoup de chose qui sont définis par exemple '__name__'\", '_i5': \"def foo(): \\n    b= 5 \\n\\na = 5 \\nfoo()\\n\\nprint(globals())\\n\\n#Dans l'espace global non a beaucoup de chose qui sont définis par exemple '__name__'\"}\n"
     ]
    }
   ],
   "source": [
    "# Impression de la focntion gobals dans l'espace global\n",
    "def foo(): \n",
    "    b= 5 \n",
    "\n",
    "a = 5 \n",
    "foo()\n",
    "\n",
    "print(globals())\n",
    "\n",
    "#Dans l'espace global non a beaucoup de chose qui sont définis par exemple '__name__'"
   ]
  },
  {
   "cell_type": "code",
   "execution_count": 6,
   "id": "2ea39222",
   "metadata": {
    "ExecuteTime": {
     "end_time": "2022-10-11T07:14:48.321856Z",
     "start_time": "2022-10-11T07:14:48.300911Z"
    }
   },
   "outputs": [
    {
     "name": "stdout",
     "output_type": "stream",
     "text": [
      "{'__name__': '__main__', '__doc__': 'Automatically created module for IPython interactive environment', '__package__': None, '__loader__': None, '__spec__': None, '__builtin__': <module 'builtins' (built-in)>, '__builtins__': <module 'builtins' (built-in)>, '_ih': ['', 'def foo(): \\n    b= 5 \\n\\na = 5 \\nfoo()\\n\\nprint(globals())', \"def foo(): \\n    b= 5 \\n\\na = 5 \\nfoo()\\n\\nprint(global())\\n\\n#Dans l'espace global non a beaucoup de chose qui sont définis par exemple '__name__'\", \"def foo(): \\n    b= 5 \\n\\na = 5 \\nfoo()\\n\\nprint(globals())\\n\\n#Dans l'espace global non a beaucoup de chose qui sont définis par exemple '__name__'\", \"def foo(): \\n    b= 5 \\n\\na = 5 \\nfoo()\\n\\nprint(globals())\\n\\n#Dans l'espace global non a beaucoup de chose qui sont définis par exemple '__name__'\", \"def foo(): \\n    b= 5 \\n\\na = 5 \\nfoo()\\n\\nprint(globals())\\n\\n#Dans l'espace global non a beaucoup de chose qui sont définis par exemple '__name__'\", \"#Impression de la fonction locals dans l'esapce local\\ndef foo(): \\n    b= 5 \\n\\na = 5 \\nfoo()\\n\\nprint(locals())\"], '_oh': {}, '_dh': ['C:\\\\Users\\\\Utilisateur\\\\Desktop\\\\VDE\\\\python\\\\partie2\\\\fonctions'], 'In': ['', 'def foo(): \\n    b= 5 \\n\\na = 5 \\nfoo()\\n\\nprint(globals())', \"def foo(): \\n    b= 5 \\n\\na = 5 \\nfoo()\\n\\nprint(global())\\n\\n#Dans l'espace global non a beaucoup de chose qui sont définis par exemple '__name__'\", \"def foo(): \\n    b= 5 \\n\\na = 5 \\nfoo()\\n\\nprint(globals())\\n\\n#Dans l'espace global non a beaucoup de chose qui sont définis par exemple '__name__'\", \"def foo(): \\n    b= 5 \\n\\na = 5 \\nfoo()\\n\\nprint(globals())\\n\\n#Dans l'espace global non a beaucoup de chose qui sont définis par exemple '__name__'\", \"def foo(): \\n    b= 5 \\n\\na = 5 \\nfoo()\\n\\nprint(globals())\\n\\n#Dans l'espace global non a beaucoup de chose qui sont définis par exemple '__name__'\", \"#Impression de la fonction locals dans l'esapce local\\ndef foo(): \\n    b= 5 \\n\\na = 5 \\nfoo()\\n\\nprint(locals())\"], 'Out': {}, 'get_ipython': <bound method InteractiveShell.get_ipython of <ipykernel.zmqshell.ZMQInteractiveShell object at 0x000001FFF5E0EF40>>, 'exit': <IPython.core.autocall.ZMQExitAutocall object at 0x000001FFF5E86220>, 'quit': <IPython.core.autocall.ZMQExitAutocall object at 0x000001FFF5E86220>, '_': '', '__': '', '___': '', '_i': \"def foo(): \\n    b= 5 \\n\\na = 5 \\nfoo()\\n\\nprint(globals())\\n\\n#Dans l'espace global non a beaucoup de chose qui sont définis par exemple '__name__'\", '_ii': \"def foo(): \\n    b= 5 \\n\\na = 5 \\nfoo()\\n\\nprint(globals())\\n\\n#Dans l'espace global non a beaucoup de chose qui sont définis par exemple '__name__'\", '_iii': \"def foo(): \\n    b= 5 \\n\\na = 5 \\nfoo()\\n\\nprint(globals())\\n\\n#Dans l'espace global non a beaucoup de chose qui sont définis par exemple '__name__'\", '_i1': 'def foo(): \\n    b= 5 \\n\\na = 5 \\nfoo()\\n\\nprint(globals())', 'foo': <function foo at 0x000001FFF5ED8940>, 'a': 5, '_i2': \"def foo(): \\n    b= 5 \\n\\na = 5 \\nfoo()\\n\\nprint(global())\\n\\n#Dans l'espace global non a beaucoup de chose qui sont définis par exemple '__name__'\", '_i3': \"def foo(): \\n    b= 5 \\n\\na = 5 \\nfoo()\\n\\nprint(globals())\\n\\n#Dans l'espace global non a beaucoup de chose qui sont définis par exemple '__name__'\", '_i4': \"def foo(): \\n    b= 5 \\n\\na = 5 \\nfoo()\\n\\nprint(globals())\\n\\n#Dans l'espace global non a beaucoup de chose qui sont définis par exemple '__name__'\", '_i5': \"def foo(): \\n    b= 5 \\n\\na = 5 \\nfoo()\\n\\nprint(globals())\\n\\n#Dans l'espace global non a beaucoup de chose qui sont définis par exemple '__name__'\", '_i6': \"#Impression de la fonction locals dans l'esapce local\\ndef foo(): \\n    b= 5 \\n\\na = 5 \\nfoo()\\n\\nprint(locals())\"}\n"
     ]
    }
   ],
   "source": [
    "#Impression de la fonction locals dans l'esapce local\n",
    "def foo(): \n",
    "    b= 5 \n",
    "\n",
    "a = 5 \n",
    "foo()\n",
    "\n",
    "print(locals())"
   ]
  },
  {
   "cell_type": "code",
   "execution_count": 9,
   "id": "56fe0c2b",
   "metadata": {
    "ExecuteTime": {
     "end_time": "2022-10-11T07:33:15.841562Z",
     "start_time": "2022-10-11T07:33:15.829593Z"
    }
   },
   "outputs": [
    {
     "name": "stdout",
     "output_type": "stream",
     "text": [
      "{'b': 5}\n"
     ]
    }
   ],
   "source": [
    "#Impression de la fonction locals dans l'esapce local\n",
    "def foo(): \n",
    "    b= 5\n",
    "    print(locals())\n",
    "\n",
    "a = 5 \n",
    "foo()\n",
    "\n",
    "# Ici on a uniquement le dictionnaire de l'espace local contenant la fonction b dont la valeur est 5"
   ]
  },
  {
   "cell_type": "code",
   "execution_count": 10,
   "id": "7faf22fc",
   "metadata": {
    "ExecuteTime": {
     "end_time": "2022-10-11T07:35:41.605754Z",
     "start_time": "2022-10-11T07:35:41.585810Z"
    }
   },
   "outputs": [
    {
     "name": "stdout",
     "output_type": "stream",
     "text": [
      "{'b': 5}\n"
     ]
    },
    {
     "ename": "NameError",
     "evalue": "name 'b' is not defined",
     "output_type": "error",
     "traceback": [
      "\u001b[1;31m---------------------------------------------------------------------------\u001b[0m",
      "\u001b[1;31mNameError\u001b[0m                                 Traceback (most recent call last)",
      "\u001b[1;32m<ipython-input-10-4e1e57c6c166>\u001b[0m in \u001b[0;36m<module>\u001b[1;34m\u001b[0m\n\u001b[0;32m      7\u001b[0m \u001b[0ma\u001b[0m \u001b[1;33m=\u001b[0m \u001b[1;36m5\u001b[0m\u001b[1;33m\u001b[0m\u001b[1;33m\u001b[0m\u001b[0m\n\u001b[0;32m      8\u001b[0m \u001b[0mfoo\u001b[0m\u001b[1;33m(\u001b[0m\u001b[1;33m)\u001b[0m\u001b[1;33m\u001b[0m\u001b[1;33m\u001b[0m\u001b[0m\n\u001b[1;32m----> 9\u001b[1;33m \u001b[0mprint\u001b[0m\u001b[1;33m(\u001b[0m\u001b[0mb\u001b[0m\u001b[1;33m)\u001b[0m\u001b[1;33m\u001b[0m\u001b[1;33m\u001b[0m\u001b[0m\n\u001b[0m",
      "\u001b[1;31mNameError\u001b[0m: name 'b' is not defined"
     ]
    }
   ],
   "source": [
    "# Si au contraire on imprime b dans l'espace global on aura une erreur de type NameError b is not defined\n",
    "#Impression de b dans l'esapce global\n",
    "def foo(): \n",
    "    b= 5\n",
    "    print(locals())\n",
    "\n",
    "a = 5 \n",
    "foo()\n",
    "print(b)"
   ]
  },
  {
   "cell_type": "code",
   "execution_count": 11,
   "id": "4254dbde",
   "metadata": {
    "ExecuteTime": {
     "end_time": "2022-10-11T07:36:59.074525Z",
     "start_time": "2022-10-11T07:36:59.067545Z"
    }
   },
   "outputs": [
    {
     "name": "stdout",
     "output_type": "stream",
     "text": [
      "{'__name__': '__main__', '__doc__': 'Automatically created module for IPython interactive environment', '__package__': None, '__loader__': None, '__spec__': None, '__builtin__': <module 'builtins' (built-in)>, '__builtins__': <module 'builtins' (built-in)>, '_ih': ['', 'def foo(): \\n    b= 5 \\n\\na = 5 \\nfoo()\\n\\nprint(globals())', \"def foo(): \\n    b= 5 \\n\\na = 5 \\nfoo()\\n\\nprint(global())\\n\\n#Dans l'espace global non a beaucoup de chose qui sont définis par exemple '__name__'\", \"def foo(): \\n    b= 5 \\n\\na = 5 \\nfoo()\\n\\nprint(globals())\\n\\n#Dans l'espace global non a beaucoup de chose qui sont définis par exemple '__name__'\", \"def foo(): \\n    b= 5 \\n\\na = 5 \\nfoo()\\n\\nprint(globals())\\n\\n#Dans l'espace global non a beaucoup de chose qui sont définis par exemple '__name__'\", \"def foo(): \\n    b= 5 \\n\\na = 5 \\nfoo()\\n\\nprint(globals())\\n\\n#Dans l'espace global non a beaucoup de chose qui sont définis par exemple '__name__'\", \"#Impression de la fonction locals dans l'esapce local\\ndef foo(): \\n    b= 5 \\n\\na = 5 \\nfoo()\\n\\nprint(locals())\", \"#Impression de la fonction locals dans l'esapce local\\ndef foo(): \\n    b= 5\\n    print(locals())\\n\\na = 5 \\nfoo()\", \"#Impression de la fonction locals dans l'esapce local\\ndef foo(): \\n    b= 5\\n    print(locals())\\n\\na = 5 \\nfoo()\\nprint(b)\", \"#Impression de la fonction locals dans l'esapce local\\ndef foo(): \\n    b= 5\\n    print(locals())\\n\\na = 5 \\nfoo()\", \"# Si au contraire on imprime b dans l'espace global on aura une erreur de type NameError b is not defined\\n#Impression de b dans l'esapce global\\ndef foo(): \\n    b= 5\\n    print(locals())\\n\\na = 5 \\nfoo()\\nprint(b)\", \"# impression de la fonction globals dans l'espace local\\ndef foo(): \\n    b= 5\\n    print(globals())\\n\\na = 5 \\nfoo()\"], '_oh': {}, '_dh': ['C:\\\\Users\\\\Utilisateur\\\\Desktop\\\\VDE\\\\python\\\\partie2\\\\fonctions'], 'In': ['', 'def foo(): \\n    b= 5 \\n\\na = 5 \\nfoo()\\n\\nprint(globals())', \"def foo(): \\n    b= 5 \\n\\na = 5 \\nfoo()\\n\\nprint(global())\\n\\n#Dans l'espace global non a beaucoup de chose qui sont définis par exemple '__name__'\", \"def foo(): \\n    b= 5 \\n\\na = 5 \\nfoo()\\n\\nprint(globals())\\n\\n#Dans l'espace global non a beaucoup de chose qui sont définis par exemple '__name__'\", \"def foo(): \\n    b= 5 \\n\\na = 5 \\nfoo()\\n\\nprint(globals())\\n\\n#Dans l'espace global non a beaucoup de chose qui sont définis par exemple '__name__'\", \"def foo(): \\n    b= 5 \\n\\na = 5 \\nfoo()\\n\\nprint(globals())\\n\\n#Dans l'espace global non a beaucoup de chose qui sont définis par exemple '__name__'\", \"#Impression de la fonction locals dans l'esapce local\\ndef foo(): \\n    b= 5 \\n\\na = 5 \\nfoo()\\n\\nprint(locals())\", \"#Impression de la fonction locals dans l'esapce local\\ndef foo(): \\n    b= 5\\n    print(locals())\\n\\na = 5 \\nfoo()\", \"#Impression de la fonction locals dans l'esapce local\\ndef foo(): \\n    b= 5\\n    print(locals())\\n\\na = 5 \\nfoo()\\nprint(b)\", \"#Impression de la fonction locals dans l'esapce local\\ndef foo(): \\n    b= 5\\n    print(locals())\\n\\na = 5 \\nfoo()\", \"# Si au contraire on imprime b dans l'espace global on aura une erreur de type NameError b is not defined\\n#Impression de b dans l'esapce global\\ndef foo(): \\n    b= 5\\n    print(locals())\\n\\na = 5 \\nfoo()\\nprint(b)\", \"# impression de la fonction globals dans l'espace local\\ndef foo(): \\n    b= 5\\n    print(globals())\\n\\na = 5 \\nfoo()\"], 'Out': {}, 'get_ipython': <bound method InteractiveShell.get_ipython of <ipykernel.zmqshell.ZMQInteractiveShell object at 0x000001FFF5E0EF40>>, 'exit': <IPython.core.autocall.ZMQExitAutocall object at 0x000001FFF5E86220>, 'quit': <IPython.core.autocall.ZMQExitAutocall object at 0x000001FFF5E86220>, '_': '', '__': '', '___': '', '_i': \"# Si au contraire on imprime b dans l'espace global on aura une erreur de type NameError b is not defined\\n#Impression de b dans l'esapce global\\ndef foo(): \\n    b= 5\\n    print(locals())\\n\\na = 5 \\nfoo()\\nprint(b)\", '_ii': \"#Impression de la fonction locals dans l'esapce local\\ndef foo(): \\n    b= 5\\n    print(locals())\\n\\na = 5 \\nfoo()\", '_iii': \"#Impression de la fonction locals dans l'esapce local\\ndef foo(): \\n    b= 5\\n    print(locals())\\n\\na = 5 \\nfoo()\\nprint(b)\", '_i1': 'def foo(): \\n    b= 5 \\n\\na = 5 \\nfoo()\\n\\nprint(globals())', 'foo': <function foo at 0x000001FFF5F85D30>, 'a': 5, '_i2': \"def foo(): \\n    b= 5 \\n\\na = 5 \\nfoo()\\n\\nprint(global())\\n\\n#Dans l'espace global non a beaucoup de chose qui sont définis par exemple '__name__'\", '_i3': \"def foo(): \\n    b= 5 \\n\\na = 5 \\nfoo()\\n\\nprint(globals())\\n\\n#Dans l'espace global non a beaucoup de chose qui sont définis par exemple '__name__'\", '_i4': \"def foo(): \\n    b= 5 \\n\\na = 5 \\nfoo()\\n\\nprint(globals())\\n\\n#Dans l'espace global non a beaucoup de chose qui sont définis par exemple '__name__'\", '_i5': \"def foo(): \\n    b= 5 \\n\\na = 5 \\nfoo()\\n\\nprint(globals())\\n\\n#Dans l'espace global non a beaucoup de chose qui sont définis par exemple '__name__'\", '_i6': \"#Impression de la fonction locals dans l'esapce local\\ndef foo(): \\n    b= 5 \\n\\na = 5 \\nfoo()\\n\\nprint(locals())\", '_i7': \"#Impression de la fonction locals dans l'esapce local\\ndef foo(): \\n    b= 5\\n    print(locals())\\n\\na = 5 \\nfoo()\", '_i8': \"#Impression de la fonction locals dans l'esapce local\\ndef foo(): \\n    b= 5\\n    print(locals())\\n\\na = 5 \\nfoo()\\nprint(b)\", '_i9': \"#Impression de la fonction locals dans l'esapce local\\ndef foo(): \\n    b= 5\\n    print(locals())\\n\\na = 5 \\nfoo()\", '_i10': \"# Si au contraire on imprime b dans l'espace global on aura une erreur de type NameError b is not defined\\n#Impression de b dans l'esapce global\\ndef foo(): \\n    b= 5\\n    print(locals())\\n\\na = 5 \\nfoo()\\nprint(b)\", '_i11': \"# impression de la fonction globals dans l'espace local\\ndef foo(): \\n    b= 5\\n    print(globals())\\n\\na = 5 \\nfoo()\"}\n"
     ]
    }
   ],
   "source": [
    "# impression de la fonction globals dans l'espace local\n",
    "def foo(): \n",
    "    b= 5\n",
    "    print(globals())\n",
    "\n",
    "a = 5 \n",
    "foo()\n",
    "# Ici on retouve le dictionnaire de l'espace global "
   ]
  },
  {
   "cell_type": "markdown",
   "id": "2161bd3f",
   "metadata": {},
   "source": [
    "# L'instruction global "
   ]
  },
  {
   "cell_type": "code",
   "execution_count": 12,
   "id": "7223ce32",
   "metadata": {
    "ExecuteTime": {
     "end_time": "2022-10-11T07:55:08.842255Z",
     "start_time": "2022-10-11T07:55:08.818318Z"
    }
   },
   "outputs": [
    {
     "name": "stdout",
     "output_type": "stream",
     "text": [
      "Tu as tout faux \n"
     ]
    }
   ],
   "source": [
    "def get_comment(note): \n",
    "    if note > 15:\n",
    "        commentaire = \"Bravo\"\n",
    "    elif note > 10: \n",
    "        commentaire = \"Peut mieux faire\"\n",
    "    elif note > 5:\n",
    "        commentaire = \"Attention !\"\n",
    "        \n",
    "commentaire = \"Tu as tout faux \"\n",
    "\n",
    "get_comment(20)\n",
    "print(commentaire)\n",
    "\n",
    "# Dans cette exemple on voit que python ne rentre pas dans la fonction malgré la note de 20 attribuée\n",
    "# à la fonction get_comment. Il considère le résultat de l’espace global « Tu as tout faux ! »\n",
    "# on serait donc tenté de modifier le code avec la fonction global pour obtenir un code qui fonctionne."
   ]
  },
  {
   "cell_type": "code",
   "execution_count": 21,
   "id": "cd2b1295",
   "metadata": {
    "ExecuteTime": {
     "end_time": "2022-10-11T08:07:11.850068Z",
     "start_time": "2022-10-11T08:07:11.830123Z"
    }
   },
   "outputs": [
    {
     "name": "stdout",
     "output_type": "stream",
     "text": [
      "Bravo\n"
     ]
    }
   ],
   "source": [
    "def get_comment(note): \n",
    "    global commentaire\n",
    "    if note > 15:\n",
    "        commentaire = \"Bravo\"\n",
    "    elif note > 10: \n",
    "        commentaire = \"Peut mieux faire\"\n",
    "    elif note > 5:\n",
    "        commentaire = \"Attention !\"\n",
    "        \n",
    "commentaire = \"Tu as tout faux \"  \n",
    "\n",
    "get_comment(20)\n",
    "print(commentaire)\n",
    "\n",
    "\n",
    "# En ajoutant la fonction global, on dit a python de réassigner dans notre variable les commentaires\n",
    "# qu’on a indiqué (« Bravo, peut mieux faire … » mais en faisant cela, on rend notre fonction impure \n",
    "# et il est donc très déconseillé de faire cela "
   ]
  },
  {
   "cell_type": "code",
   "execution_count": 29,
   "id": "04b6063f",
   "metadata": {
    "ExecuteTime": {
     "end_time": "2022-10-11T08:35:29.452369Z",
     "start_time": "2022-10-11T08:35:29.430429Z"
    }
   },
   "outputs": [
    {
     "name": "stdout",
     "output_type": "stream",
     "text": [
      "Attention !\n"
     ]
    }
   ],
   "source": [
    "def get_comment(note): \n",
    "    if note > 15:\n",
    "        return \"Bravo\"\n",
    "    elif note > 10: \n",
    "        return \"Peut mieux faire\"\n",
    "    elif note > 5:\n",
    "        return \"Attention !\"\n",
    "    else:\n",
    "        return \"Tu as tout faux \"  \n",
    "     \n",
    "\n",
    "commentaire = get_comment(6)\n",
    "print(commentaire)\n",
    "\n",
    "#Pour modifier cette fonction, on ne va pas définir de variable en dehors de la fonction.\n",
    "# on rajoute un else puis une instruction return qui va nous retourner le commentaire \n",
    "#on crée ensuite dans l'espace global une varaible commentaire qui va récupérer la valeur de la fonction"
   ]
  },
  {
   "cell_type": "markdown",
   "id": "c8a029ee",
   "metadata": {},
   "source": [
    "# Passage par référence "
   ]
  },
  {
   "cell_type": "code",
   "execution_count": 30,
   "id": "4b2edbd3",
   "metadata": {
    "ExecuteTime": {
     "end_time": "2022-10-11T08:43:06.182392Z",
     "start_time": "2022-10-11T08:43:06.165437Z"
    }
   },
   "outputs": [
    {
     "name": "stdout",
     "output_type": "stream",
     "text": [
      "140731633117104\n",
      "140731633117104\n"
     ]
    }
   ],
   "source": [
    "def foo(params):\n",
    "    print(id(params))\n",
    "    \n",
    "\n",
    "var = 5 \n",
    "print(id(var))\n",
    "\n",
    "foo(params = var)\n",
    "\n",
    "params et var référencent le même objet. dans le cas d'un object de type imuable ça ne cause pas de problème "
   ]
  },
  {
   "cell_type": "markdown",
   "id": "a0190c86",
   "metadata": {},
   "source": [
    "# Exercice 1\n",
    "\n",
    "Dans cet exercice, vous devez créer une fonction qui affiche le nom de l'utilisateur passé en argument.\n",
    "\n",
    "Par exemple, si j'appelle la fonction en utilisant saluer(\"Patrick\"), le script devra afficher : Bonjour Patrick"
   ]
  },
  {
   "cell_type": "code",
   "execution_count": 35,
   "id": "f4c1b157",
   "metadata": {
    "ExecuteTime": {
     "end_time": "2022-10-11T08:56:12.476508Z",
     "start_time": "2022-10-11T08:56:12.457560Z"
    }
   },
   "outputs": [
    {
     "name": "stdout",
     "output_type": "stream",
     "text": [
      "Bonjour Patrick\n"
     ]
    }
   ],
   "source": [
    "def get_name(name): \n",
    "    return name\n",
    "\n",
    "nom = get_name(\"Patrick\")\n",
    "print(f\"Bonjour {nom}\")\n"
   ]
  },
  {
   "cell_type": "markdown",
   "id": "0342150f",
   "metadata": {},
   "source": [
    "# Exercice 2\n",
    "\n",
    "Trouver l'erreur dans la fonction\n",
    "Dans cet exercice, la fonction multiplicateur_mot retourne une erreur.\n",
    "\n",
    "Trouvez cette erreur et modifiez la fonction pour qu'elle ne retourne plus d'erreur.\n",
    "\n",
    "Il y a plusieurs façons de fixer cette erreur.\n",
    "\n",
    "Votre script doit afficher 5 fois le mot Bonjour à la suite (parce que dans la vie, il est important de faire des scripts bien élevés...) : BonjourBonjourBonjourBonjourBonjour"
   ]
  },
  {
   "cell_type": "code",
   "execution_count": 38,
   "id": "d9d026b0",
   "metadata": {
    "ExecuteTime": {
     "end_time": "2022-10-11T09:11:54.278453Z",
     "start_time": "2022-10-11T09:11:54.265488Z"
    }
   },
   "outputs": [
    {
     "name": "stdout",
     "output_type": "stream",
     "text": [
      "BonjourBonjourBonjourBonjourBonjour\n"
     ]
    }
   ],
   "source": [
    "def multiplicateur_mot(mult, mot):\n",
    "    return mot * mult\n",
    "\n",
    "mot_multiplie = multiplicateur_mot(mult = 5, mot=\"Bonjour\")\n",
    "print(mot_multiplie)"
   ]
  },
  {
   "cell_type": "markdown",
   "id": "4473cb00",
   "metadata": {},
   "source": [
    "# Exercice 3\n",
    "\n",
    "Dans cet exercice, le script ne retourne pas d'erreur mais n'affiche pas le résultat escompté.\n",
    "\n",
    "La fonction addition devrait nous permettre d'additionner deux nombres ensemble.\n",
    "\n",
    "Cependant, quand on print la variable resultat, Python nous retourne None, au lieu du résultat de l'addition (ici 15).\n",
    "\n",
    "Modifiez la fonction pour que le print de resultat affiche le résultat de l'addition."
   ]
  },
  {
   "cell_type": "code",
   "execution_count": 39,
   "id": "fe575687",
   "metadata": {
    "ExecuteTime": {
     "end_time": "2022-10-11T09:21:07.024609Z",
     "start_time": "2022-10-11T09:21:07.003664Z"
    }
   },
   "outputs": [
    {
     "name": "stdout",
     "output_type": "stream",
     "text": [
      "None\n"
     ]
    }
   ],
   "source": [
    "def addition(a, b):\n",
    "    c = a + b\n",
    "\n",
    "resultat = addition(5, 10)\n",
    "print(resultat)"
   ]
  },
  {
   "cell_type": "code",
   "execution_count": 40,
   "id": "ef361c6f",
   "metadata": {
    "ExecuteTime": {
     "end_time": "2022-10-11T09:21:32.009793Z",
     "start_time": "2022-10-11T09:21:32.001813Z"
    }
   },
   "outputs": [
    {
     "name": "stdout",
     "output_type": "stream",
     "text": [
      "15\n"
     ]
    }
   ],
   "source": [
    "def addition(a, b):\n",
    "    return a + b\n",
    "\n",
    "resultat = addition(5, 10)\n",
    "print(resultat)"
   ]
  },
  {
   "cell_type": "markdown",
   "id": "2c0ce25c",
   "metadata": {},
   "source": [
    "# Exercice 4\n",
    "Écrire le script multiple3.py qui affiche en fonction d’une valeur saisie l’un des messages suivants :\n",
    "— ”Ce nombre est pair”\n",
    "— ”Ce nombre est impair, mais est multiple de 3”\n",
    "— ”Ce nombre n’est ni pair ni multiple de 3”\n"
   ]
  },
  {
   "cell_type": "code",
   "execution_count": 45,
   "id": "45008902",
   "metadata": {
    "ExecuteTime": {
     "end_time": "2022-10-11T09:42:19.107252Z",
     "start_time": "2022-10-11T09:42:14.548445Z"
    }
   },
   "outputs": [
    {
     "name": "stdout",
     "output_type": "stream",
     "text": [
      "Donnez une valeur : 126547\n",
      "Ce nombre n’est ni pair ni multiple de 3\n"
     ]
    }
   ],
   "source": [
    "def get_multiple(nombre): \n",
    "    if nombre % 2 == 0: \n",
    "        return \"Ce nombre est pair\"\n",
    "    elif nombre % 3 == 0: \n",
    "        return  \"Ce nombre est impair, mais est multiple de 3\"\n",
    "    else: \n",
    "        return \"Ce nombre n’est ni pair ni multiple de 3\"\n",
    "\n",
    "n = get_multiple(int(input(\"Donnez une valeur : \")))\n",
    "print(n)"
   ]
  },
  {
   "cell_type": "code",
   "execution_count": null,
   "id": "59920935",
   "metadata": {},
   "outputs": [],
   "source": []
  }
 ],
 "metadata": {
  "kernelspec": {
   "display_name": "Python 3",
   "language": "python",
   "name": "python3"
  },
  "language_info": {
   "codemirror_mode": {
    "name": "ipython",
    "version": 3
   },
   "file_extension": ".py",
   "mimetype": "text/x-python",
   "name": "python",
   "nbconvert_exporter": "python",
   "pygments_lexer": "ipython3",
   "version": "3.8.8"
  },
  "toc": {
   "base_numbering": 1,
   "nav_menu": {},
   "number_sections": true,
   "sideBar": true,
   "skip_h1_title": false,
   "title_cell": "Table of Contents",
   "title_sidebar": "Contents",
   "toc_cell": false,
   "toc_position": {},
   "toc_section_display": true,
   "toc_window_display": true
  }
 },
 "nbformat": 4,
 "nbformat_minor": 5
}
